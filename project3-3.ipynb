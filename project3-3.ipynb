{
 "cells": [
  {
   "cell_type": "code",
   "execution_count": 1,
   "id": "PF9BEqPZNlbt",
   "metadata": {
    "id": "PF9BEqPZNlbt"
   },
   "outputs": [],
   "source": [
    "# Fill in the UNI of your team members:\n",
    "# UNI1 = emy2114\n",
    "# UNI2 =\n",
    "\n",
    "# late_days_used = 1"
   ]
  },
  {
   "cell_type": "markdown",
   "id": "7b8096418303f070",
   "metadata": {
    "id": "7b8096418303f070"
   },
   "source": [
    "# Phylogenetic Analysis\n",
    "\n",
    "In this project, you will delve into the field of phylogenomics, using your Python programming skills to analyze genomic sequences from various animal species. You will be using sequencing data to measure the distances between species, implement a clustering algorithm to reconstruct the evolutionary relationships and implementing a TreeNode class to represent the nodes of a phylogenetic tree, and then using this class to analyse the phylogenetic tree.\n",
    "\n",
    "Phylogenetic analysis is a method used in biology to study the evolutionary relationships between different species or organisms. The primary goal of this analysis is to construct a \"phylogenetic tree,\" a diagram that represents these evolutionary relationships in a tree-like form. Each branch of the tree denotes a species or a group of species, and the structure of the tree reflects how these species have diverged from common ancestral lines over time.\n",
    "\n",
    "Your job will be to fill in all the spots denoted with 'YOUR RESPONSE HERE' etc. The code responses are marked with a # YOUR CODE HERE comment. Please make sure to remove the raise NotImplementedError line when you write your code.\n",
    "\n",
    "Before we begin, modify the code block before to check you have the necessary imports and modify the path to data to the correct location.\n",
    "\n"
   ]
  },
  {
   "cell_type": "code",
   "execution_count": 2,
   "id": "initial_id",
   "metadata": {
    "ExecuteTime": {
     "end_time": "2023-11-24T15:01:47.179533Z",
     "start_time": "2023-11-24T15:01:47.158045Z"
    },
    "id": "initial_id"
   },
   "outputs": [],
   "source": [
    "import pandas as pd\n",
    "import numpy as np\n",
    "import ete3\n",
    "\n",
    "path_to_data = r\"/Users/ethanyoder/Desktop/species/\"\n"
   ]
  },
  {
   "cell_type": "markdown",
   "id": "8f8f2445d616eb4b",
   "metadata": {
    "id": "8f8f2445d616eb4b"
   },
   "source": [
    "# Part 1: Loading the Data (4pts)\n",
    "\n",
    "The data for this project consists of a set of genomic sequences from 15 different species. The sequences are stored in text files in the data directory specified by the path_to_data variable. Each file contains the genomic sequence for a single species, and the name of the file is the name of the species. For example, the file data/ape.txt contains the genomic sequence for the ape species.  \n",
    "\n",
    "In this part of the project, you will\n",
    "\n",
    "Question 1a [2pt].\n",
    " Iterate over all the files in the directory and read the genomic sequences into a dictionary. The keys of the dictionary will be the species names (extracted from the file name), and the values will be the genomic sequences **as a list**. Be careful to remove any newline characters or spaces from the genomic sequences.\n",
    "\n",
    "Question 1b [1pt]\n",
    " Convert the dictionary into a pandas DataFrame. The rows of the DataFrame should be the species names, and the columns should be the positions in the genomic sequences. The values in the DataFrame should be the nucleotides at each position for each species. For example, the DataFrame entry at row 'ape' and column 1000 should be the nucleotide at position 1000 in the ape genomic sequence. Save this dataframe as a variable named `full_species_data`. The dimension of your dataframe should be 232 columns × 14 rows\n",
    "\n",
    "Question 1c[1pt]\n",
    " Print the first 5 rows of the DataFrame.\n",
    "\n",
    "\n",
    "*Potential Hints:*\n",
    "1. You may find the string function `.replace()` useful in parsing your sequence.\n",
    "2. Remember that strings can be converted into lists using `list('ABCD') -> ['A','B','C','D']`\n",
    "3. You may find it helpful to make use of the transpose function. To transpose a dataframe `df`, you can call `df.T`\n",
    "\n"
   ]
  },
  {
   "cell_type": "code",
   "execution_count": 3,
   "id": "bb1f2ed48e36551a",
   "metadata": {
    "ExecuteTime": {
     "end_time": "2023-11-24T14:49:13.570635Z",
     "start_time": "2023-11-24T14:49:13.329910Z"
    },
    "id": "bb1f2ed48e36551a"
   },
   "outputs": [],
   "source": [
    "import os\n",
    "\n",
    "species_sequences = {}\n",
    "\n",
    "for filename in os.listdir(path_to_data):\n",
    "    \n",
    "    # YOUR CODE HERE\n",
    "    \n",
    "    if filename.endswith(\".txt\"):\n",
    "        species_name = filename.replace(\".txt\", \"\")\n",
    "        \n",
    "        with open(os.path.join(path_to_data, filename), 'r') as file:\n",
    "            sequence = file.read().replace('\\n', '').replace(' ', '')\n",
    "            species_sequences[species_name] = list(sequence)\n",
    "    \n",
    "# Check to make sure the sequence is in the expected format\n",
    "assert species_sequences['Bovine'][:10] == ['A', 'C', 'C', 'A', 'A', 'A', 'C', 'C', 'T', 'G']\n"
   ]
  },
  {
   "cell_type": "code",
   "execution_count": 4,
   "id": "421b648eb0403bc",
   "metadata": {
    "ExecuteTime": {
     "end_time": "2023-11-24T14:48:06.073874Z",
     "start_time": "2023-11-24T14:48:06.067837Z"
    },
    "id": "421b648eb0403bc"
   },
   "outputs": [],
   "source": [
    "# Convert dictionary to DataFrame; save this DataFrame as full_species_data\n",
    "\n",
    "full_species_data = pd.DataFrame.from_dict(species_sequences, orient='index')\n"
   ]
  },
  {
   "cell_type": "code",
   "execution_count": 5,
   "id": "cc26891c9e091d48",
   "metadata": {
    "ExecuteTime": {
     "end_time": "2023-11-24T14:48:06.163364Z",
     "start_time": "2023-11-24T14:48:06.152132Z"
    },
    "id": "cc26891c9e091d48"
   },
   "outputs": [
    {
     "data": {
      "text/html": [
       "<div>\n",
       "<style scoped>\n",
       "    .dataframe tbody tr th:only-of-type {\n",
       "        vertical-align: middle;\n",
       "    }\n",
       "\n",
       "    .dataframe tbody tr th {\n",
       "        vertical-align: top;\n",
       "    }\n",
       "\n",
       "    .dataframe thead th {\n",
       "        text-align: right;\n",
       "    }\n",
       "</style>\n",
       "<table border=\"1\" class=\"dataframe\">\n",
       "  <thead>\n",
       "    <tr style=\"text-align: right;\">\n",
       "      <th></th>\n",
       "      <th>0</th>\n",
       "      <th>1</th>\n",
       "      <th>2</th>\n",
       "      <th>3</th>\n",
       "      <th>4</th>\n",
       "      <th>5</th>\n",
       "      <th>6</th>\n",
       "      <th>7</th>\n",
       "      <th>8</th>\n",
       "      <th>9</th>\n",
       "      <th>...</th>\n",
       "      <th>222</th>\n",
       "      <th>223</th>\n",
       "      <th>224</th>\n",
       "      <th>225</th>\n",
       "      <th>226</th>\n",
       "      <th>227</th>\n",
       "      <th>228</th>\n",
       "      <th>229</th>\n",
       "      <th>230</th>\n",
       "      <th>231</th>\n",
       "    </tr>\n",
       "  </thead>\n",
       "  <tbody>\n",
       "    <tr>\n",
       "      <th>Tarsier</th>\n",
       "      <td>A</td>\n",
       "      <td>T</td>\n",
       "      <td>C</td>\n",
       "      <td>T</td>\n",
       "      <td>A</td>\n",
       "      <td>C</td>\n",
       "      <td>C</td>\n",
       "      <td>T</td>\n",
       "      <td>T</td>\n",
       "      <td>A</td>\n",
       "      <td>...</td>\n",
       "      <td>G</td>\n",
       "      <td>T</td>\n",
       "      <td>T</td>\n",
       "      <td>T</td>\n",
       "      <td>G</td>\n",
       "      <td>A</td>\n",
       "      <td>A</td>\n",
       "      <td>C</td>\n",
       "      <td>A</td>\n",
       "      <td>C</td>\n",
       "    </tr>\n",
       "    <tr>\n",
       "      <th>Gorilla</th>\n",
       "      <td>A</td>\n",
       "      <td>C</td>\n",
       "      <td>C</td>\n",
       "      <td>C</td>\n",
       "      <td>C</td>\n",
       "      <td>A</td>\n",
       "      <td>T</td>\n",
       "      <td>T</td>\n",
       "      <td>T</td>\n",
       "      <td>A</td>\n",
       "      <td>...</td>\n",
       "      <td>A</td>\n",
       "      <td>C</td>\n",
       "      <td>A</td>\n",
       "      <td>A</td>\n",
       "      <td>T</td>\n",
       "      <td>A</td>\n",
       "      <td>C</td>\n",
       "      <td>C</td>\n",
       "      <td>A</td>\n",
       "      <td>C</td>\n",
       "    </tr>\n",
       "    <tr>\n",
       "      <th>Jpn Macaq</th>\n",
       "      <td>A</td>\n",
       "      <td>C</td>\n",
       "      <td>T</td>\n",
       "      <td>C</td>\n",
       "      <td>C</td>\n",
       "      <td>A</td>\n",
       "      <td>C</td>\n",
       "      <td>C</td>\n",
       "      <td>T</td>\n",
       "      <td>G</td>\n",
       "      <td>...</td>\n",
       "      <td>G</td>\n",
       "      <td>C</td>\n",
       "      <td>A</td>\n",
       "      <td>A</td>\n",
       "      <td>A</td>\n",
       "      <td>C</td>\n",
       "      <td>A</td>\n",
       "      <td>G</td>\n",
       "      <td>A</td>\n",
       "      <td>C</td>\n",
       "    </tr>\n",
       "    <tr>\n",
       "      <th>Orang</th>\n",
       "      <td>A</td>\n",
       "      <td>C</td>\n",
       "      <td>C</td>\n",
       "      <td>C</td>\n",
       "      <td>C</td>\n",
       "      <td>A</td>\n",
       "      <td>C</td>\n",
       "      <td>C</td>\n",
       "      <td>C</td>\n",
       "      <td>G</td>\n",
       "      <td>...</td>\n",
       "      <td>C</td>\n",
       "      <td>C</td>\n",
       "      <td>G</td>\n",
       "      <td>A</td>\n",
       "      <td>A</td>\n",
       "      <td>A</td>\n",
       "      <td>C</td>\n",
       "      <td>A</td>\n",
       "      <td>A</td>\n",
       "      <td>C</td>\n",
       "    </tr>\n",
       "    <tr>\n",
       "      <th>Rhesus Mac</th>\n",
       "      <td>A</td>\n",
       "      <td>C</td>\n",
       "      <td>T</td>\n",
       "      <td>T</td>\n",
       "      <td>C</td>\n",
       "      <td>A</td>\n",
       "      <td>C</td>\n",
       "      <td>C</td>\n",
       "      <td>C</td>\n",
       "      <td>G</td>\n",
       "      <td>...</td>\n",
       "      <td>A</td>\n",
       "      <td>C</td>\n",
       "      <td>A</td>\n",
       "      <td>A</td>\n",
       "      <td>A</td>\n",
       "      <td>C</td>\n",
       "      <td>A</td>\n",
       "      <td>A</td>\n",
       "      <td>A</td>\n",
       "      <td>C</td>\n",
       "    </tr>\n",
       "  </tbody>\n",
       "</table>\n",
       "<p>5 rows × 232 columns</p>\n",
       "</div>"
      ],
      "text/plain": [
       "           0   1   2   3   4   5   6   7   8   9    ... 222 223 224 225 226  \\\n",
       "Tarsier      A   T   C   T   A   C   C   T   T   A  ...   G   T   T   T   G   \n",
       "Gorilla      A   C   C   C   C   A   T   T   T   A  ...   A   C   A   A   T   \n",
       "Jpn Macaq    A   C   T   C   C   A   C   C   T   G  ...   G   C   A   A   A   \n",
       "Orang        A   C   C   C   C   A   C   C   C   G  ...   C   C   G   A   A   \n",
       "Rhesus Mac   A   C   T   T   C   A   C   C   C   G  ...   A   C   A   A   A   \n",
       "\n",
       "           227 228 229 230 231  \n",
       "Tarsier      A   A   C   A   C  \n",
       "Gorilla      A   C   C   A   C  \n",
       "Jpn Macaq    C   A   G   A   C  \n",
       "Orang        A   C   A   A   C  \n",
       "Rhesus Mac   C   A   A   A   C  \n",
       "\n",
       "[5 rows x 232 columns]"
      ]
     },
     "execution_count": 5,
     "metadata": {},
     "output_type": "execute_result"
    }
   ],
   "source": [
    "# Display the first 5 rows of the dataframe\n",
    "\n",
    "full_species_data.head()"
   ]
  },
  {
   "cell_type": "code",
   "execution_count": 6,
   "id": "71620dca",
   "metadata": {},
   "outputs": [
    {
     "data": {
      "text/plain": [
       "(14, 232)"
      ]
     },
     "execution_count": 6,
     "metadata": {},
     "output_type": "execute_result"
    }
   ],
   "source": [
    "full_species_data.shape"
   ]
  },
  {
   "cell_type": "code",
   "execution_count": 7,
   "id": "ec900789d8e21f4a",
   "metadata": {
    "ExecuteTime": {
     "end_time": "2023-11-24T14:48:06.246104Z",
     "start_time": "2023-11-24T14:48:06.231843Z"
    },
    "id": "ec900789d8e21f4a"
   },
   "outputs": [],
   "source": [
    "assert full_species_data.shape == (14, 232)"
   ]
  },
  {
   "cell_type": "markdown",
   "id": "2acc1d15429e99f0",
   "metadata": {
    "id": "2acc1d15429e99f0"
   },
   "source": [
    "# Part 2: Exploratory Data Visualization (6pts)\n",
    "\n",
    "We can perform some exploratory analysis of this data by visualizing how the species differ on a heatmap. The package seaborn provides convenient functionality for doing this. However, in order to plot data using a heatmap, we need to convert our string data into numeric data.\n",
    "\n",
    "In the cell below, we convert our dataframe into a numerical format, where 'A' corresponds to 0,'T' corresponds to 1,'C' corresponds to 2 and 'G' corresponds to 3."
   ]
  },
  {
   "cell_type": "code",
   "execution_count": 8,
   "id": "60ad5ca6d597eb6e",
   "metadata": {
    "ExecuteTime": {
     "end_time": "2023-11-24T14:50:03.857070Z",
     "start_time": "2023-11-24T14:50:03.826804Z"
    },
    "id": "60ad5ca6d597eb6e"
   },
   "outputs": [
    {
     "data": {
      "text/html": [
       "<div>\n",
       "<style scoped>\n",
       "    .dataframe tbody tr th:only-of-type {\n",
       "        vertical-align: middle;\n",
       "    }\n",
       "\n",
       "    .dataframe tbody tr th {\n",
       "        vertical-align: top;\n",
       "    }\n",
       "\n",
       "    .dataframe thead th {\n",
       "        text-align: right;\n",
       "    }\n",
       "</style>\n",
       "<table border=\"1\" class=\"dataframe\">\n",
       "  <thead>\n",
       "    <tr style=\"text-align: right;\">\n",
       "      <th></th>\n",
       "      <th>0</th>\n",
       "      <th>1</th>\n",
       "      <th>2</th>\n",
       "      <th>3</th>\n",
       "      <th>4</th>\n",
       "      <th>5</th>\n",
       "      <th>6</th>\n",
       "      <th>7</th>\n",
       "      <th>8</th>\n",
       "      <th>9</th>\n",
       "      <th>...</th>\n",
       "      <th>222</th>\n",
       "      <th>223</th>\n",
       "      <th>224</th>\n",
       "      <th>225</th>\n",
       "      <th>226</th>\n",
       "      <th>227</th>\n",
       "      <th>228</th>\n",
       "      <th>229</th>\n",
       "      <th>230</th>\n",
       "      <th>231</th>\n",
       "    </tr>\n",
       "  </thead>\n",
       "  <tbody>\n",
       "    <tr>\n",
       "      <th>Tarsier</th>\n",
       "      <td>0</td>\n",
       "      <td>1</td>\n",
       "      <td>2</td>\n",
       "      <td>1</td>\n",
       "      <td>0</td>\n",
       "      <td>2</td>\n",
       "      <td>2</td>\n",
       "      <td>1</td>\n",
       "      <td>1</td>\n",
       "      <td>0</td>\n",
       "      <td>...</td>\n",
       "      <td>3</td>\n",
       "      <td>1</td>\n",
       "      <td>1</td>\n",
       "      <td>1</td>\n",
       "      <td>3</td>\n",
       "      <td>0</td>\n",
       "      <td>0</td>\n",
       "      <td>2</td>\n",
       "      <td>0</td>\n",
       "      <td>2</td>\n",
       "    </tr>\n",
       "    <tr>\n",
       "      <th>Gorilla</th>\n",
       "      <td>0</td>\n",
       "      <td>2</td>\n",
       "      <td>2</td>\n",
       "      <td>2</td>\n",
       "      <td>2</td>\n",
       "      <td>0</td>\n",
       "      <td>1</td>\n",
       "      <td>1</td>\n",
       "      <td>1</td>\n",
       "      <td>0</td>\n",
       "      <td>...</td>\n",
       "      <td>0</td>\n",
       "      <td>2</td>\n",
       "      <td>0</td>\n",
       "      <td>0</td>\n",
       "      <td>1</td>\n",
       "      <td>0</td>\n",
       "      <td>2</td>\n",
       "      <td>2</td>\n",
       "      <td>0</td>\n",
       "      <td>2</td>\n",
       "    </tr>\n",
       "    <tr>\n",
       "      <th>Jpn Macaq</th>\n",
       "      <td>0</td>\n",
       "      <td>2</td>\n",
       "      <td>1</td>\n",
       "      <td>2</td>\n",
       "      <td>2</td>\n",
       "      <td>0</td>\n",
       "      <td>2</td>\n",
       "      <td>2</td>\n",
       "      <td>1</td>\n",
       "      <td>3</td>\n",
       "      <td>...</td>\n",
       "      <td>3</td>\n",
       "      <td>2</td>\n",
       "      <td>0</td>\n",
       "      <td>0</td>\n",
       "      <td>0</td>\n",
       "      <td>2</td>\n",
       "      <td>0</td>\n",
       "      <td>3</td>\n",
       "      <td>0</td>\n",
       "      <td>2</td>\n",
       "    </tr>\n",
       "    <tr>\n",
       "      <th>Orang</th>\n",
       "      <td>0</td>\n",
       "      <td>2</td>\n",
       "      <td>2</td>\n",
       "      <td>2</td>\n",
       "      <td>2</td>\n",
       "      <td>0</td>\n",
       "      <td>2</td>\n",
       "      <td>2</td>\n",
       "      <td>2</td>\n",
       "      <td>3</td>\n",
       "      <td>...</td>\n",
       "      <td>2</td>\n",
       "      <td>2</td>\n",
       "      <td>3</td>\n",
       "      <td>0</td>\n",
       "      <td>0</td>\n",
       "      <td>0</td>\n",
       "      <td>2</td>\n",
       "      <td>0</td>\n",
       "      <td>0</td>\n",
       "      <td>2</td>\n",
       "    </tr>\n",
       "    <tr>\n",
       "      <th>Rhesus Mac</th>\n",
       "      <td>0</td>\n",
       "      <td>2</td>\n",
       "      <td>1</td>\n",
       "      <td>1</td>\n",
       "      <td>2</td>\n",
       "      <td>0</td>\n",
       "      <td>2</td>\n",
       "      <td>2</td>\n",
       "      <td>2</td>\n",
       "      <td>3</td>\n",
       "      <td>...</td>\n",
       "      <td>0</td>\n",
       "      <td>2</td>\n",
       "      <td>0</td>\n",
       "      <td>0</td>\n",
       "      <td>0</td>\n",
       "      <td>2</td>\n",
       "      <td>0</td>\n",
       "      <td>0</td>\n",
       "      <td>0</td>\n",
       "      <td>2</td>\n",
       "    </tr>\n",
       "  </tbody>\n",
       "</table>\n",
       "<p>5 rows × 232 columns</p>\n",
       "</div>"
      ],
      "text/plain": [
       "            0    1    2    3    4    5    6    7    8    9    ...  222  223  \\\n",
       "Tarsier       0    1    2    1    0    2    2    1    1    0  ...    3    1   \n",
       "Gorilla       0    2    2    2    2    0    1    1    1    0  ...    0    2   \n",
       "Jpn Macaq     0    2    1    2    2    0    2    2    1    3  ...    3    2   \n",
       "Orang         0    2    2    2    2    0    2    2    2    3  ...    2    2   \n",
       "Rhesus Mac    0    2    1    1    2    0    2    2    2    3  ...    0    2   \n",
       "\n",
       "            224  225  226  227  228  229  230  231  \n",
       "Tarsier       1    1    3    0    0    2    0    2  \n",
       "Gorilla       0    0    1    0    2    2    0    2  \n",
       "Jpn Macaq     0    0    0    2    0    3    0    2  \n",
       "Orang         3    0    0    0    2    0    0    2  \n",
       "Rhesus Mac    0    0    0    2    0    0    0    2  \n",
       "\n",
       "[5 rows x 232 columns]"
      ]
     },
     "execution_count": 8,
     "metadata": {},
     "output_type": "execute_result"
    }
   ],
   "source": [
    "encode = {'A':0,'T':1,'C':2,'G':3}\n",
    "encoded_data = full_species_data.copy()\n",
    "for col in full_species_data.columns:\n",
    "    encoded_data[col] = full_species_data[col].map(lambda x: encode[x])\n",
    "encoded_data.head()"
   ]
  },
  {
   "cell_type": "markdown",
   "id": "9bb5ae65792b3ea7",
   "metadata": {
    "id": "9bb5ae65792b3ea7"
   },
   "source": [
    "Question 2a [1pt].\n",
    "\n",
    "Use `seaborn` to **display a [heatmap](https://seaborn.pydata.org/generated/seaborn.heatmap.html)** of the encoded data, where each row corresponds to a species. Play around with a colour map you like that allows you to visualise the different bases. Seaborn [documentation](https://seaborn.pydata.org/tutorial/color_palettes.html) describes some common color palettes.\n",
    "\n",
    "\n"
   ]
  },
  {
   "cell_type": "code",
   "execution_count": 9,
   "id": "1d9ae69bc6ef4bb",
   "metadata": {
    "ExecuteTime": {
     "end_time": "2023-11-24T14:48:07.023012Z",
     "start_time": "2023-11-24T14:48:06.628008Z"
    },
    "id": "1d9ae69bc6ef4bb"
   },
   "outputs": [
    {
     "data": {
      "image/png": "[encoded data removed]",
      "text/plain": [
       "<Figure size 2000x500 with 2 Axes>"
      ]
     },
     "metadata": {},
     "output_type": "display_data"
    }
   ],
   "source": [
    "import seaborn as sns\n",
    "import matplotlib.pyplot as plt\n",
    "\n",
    "plt.figure(figsize=(20,5))\n",
    "\n",
    "sns.heatmap(encoded_data, annot=False, cmap='viridis')\n",
    "plt.title('Heatmap of Encoded Species Data')\n",
    "plt.xlabel('Base')\n",
    "plt.ylabel('Species')\n",
    "\n",
    "plt.show()\n"
   ]
  },
  {
   "cell_type": "markdown",
   "id": "9160611e11342c0",
   "metadata": {
    "id": "9160611e11342c0"
   },
   "source": [
    "Question 2b [2pt].\n",
    "\n",
    "From our heatmap, we observe that there are some genomic positions that are conserved across all species - they have the same nucleotide across all species. Since these positions are not informative, we can remove them from our dataset. In this problem, find all the positions that are conserved across all species, and remove them from the dataset. Print the number of positions that were removed from the dataset. There should be 12 conserved positions that we remove - the shape of your dataframe should be (14, 220) after removing these positions.\n",
    "\n",
    "*Hint: You might find the function var() useful to choose which columns to select as conserved. You can also use the function drop() to remove columns from a dataframe.*\n",
    "\n"
   ]
  },
  {
   "cell_type": "code",
   "execution_count": 10,
   "id": "eed2e1cbbadf3a90",
   "metadata": {
    "ExecuteTime": {
     "end_time": "2023-11-24T14:48:07.158014Z",
     "start_time": "2023-11-24T14:48:07.050757Z"
    },
    "id": "eed2e1cbbadf3a90"
   },
   "outputs": [
    {
     "name": "stdout",
     "output_type": "stream",
     "text": [
      "Number of conserved positions removed: 12\n"
     ]
    }
   ],
   "source": [
    "# Identify conserved positions (all values in a column are the same)\n",
    "conserved_positions = full_species_data.apply(lambda x: x.nunique() == 1)\n",
    "\n",
    "# Remove the conserved positions from the DataFrame\n",
    "species_data = full_species_data.loc[:, ~conserved_positions]\n",
    "\n",
    "# Print the number of conserved positions removed\n",
    "num_conserved_positions = conserved_positions.sum()\n",
    "print('Number of conserved positions removed:', num_conserved_positions)\n"
   ]
  },
  {
   "cell_type": "code",
   "execution_count": 11,
   "id": "b43031b5ebb8f288",
   "metadata": {
    "ExecuteTime": {
     "end_time": "2023-11-24T14:48:07.158184Z",
     "start_time": "2023-11-24T14:48:07.062895Z"
    },
    "id": "b43031b5ebb8f288"
   },
   "outputs": [],
   "source": [
    "assert species_data.shape == (14, 220)"
   ]
  },
  {
   "cell_type": "markdown",
   "id": "f48df438da684d70",
   "metadata": {
    "id": "f48df438da684d70"
   },
   "source": [
    "# Part 3: Hierarchical Clustering (3pts)\n",
    "\n",
    "In this section of the project, we will implement a hierarchical clustering algorithm to cluster the species based on their genomic sequences. We will use the Hamming distance to measure the distance between two sequences. The Hamming distance between two sequences is the number of positions at which the sequences differ. For example, the Hamming distance between the sequences 'ATCG' and 'ATGG' is 1, since the sequences differ at the third position.\n",
    "\n",
    "Question 3a [2pt].\n",
    "\n",
    "Implement a `compute_hamming_distance()` function that takes in two sequences as arguments and returns the Hamming distance between them. The sequences will be represented as np.arrays of nucleotides, as in the previous parts of the project. The function should return a value of type int.\n",
    "\n",
    "\n"
   ]
  },
  {
   "cell_type": "code",
   "execution_count": 12,
   "id": "4bc53d7e02bca20b",
   "metadata": {
    "ExecuteTime": {
     "end_time": "2023-11-24T14:48:07.164117Z",
     "start_time": "2023-11-24T14:48:07.142657Z"
    },
    "id": "4bc53d7e02bca20b"
   },
   "outputs": [],
   "source": [
    "def compute_hamming_distance(seq1, seq2):\n",
    "    \"\"\"\n",
    "    Computes the Hamming distance between two sequences.\n",
    "    :param seq1: (np.array) sequence of nucleotides\n",
    "    :param seq2: (np.array) sequence of nucleotides\n",
    "    :return: (int) Hamming distance between the sequences\n",
    "    \"\"\"\n",
    "    assert len(seq1) == len(seq2), 'The sequences must have the same length.'\n",
    "    assert isinstance(seq1, np.ndarray), 'The sequences must be represented as numpy arrays.'\n",
    "    assert isinstance(seq2, np.ndarray), 'The sequences must be represented as numpy arrays.'\n",
    "    # YOUR CODE HERE\n",
    "    hamming_distance = np.sum(seq1 != seq2)\n",
    "    return hamming_distance\n",
    "    \n",
    "    #raise NotImplementedError"
   ]
  },
  {
   "cell_type": "code",
   "execution_count": 13,
   "id": "c954799b3f807251",
   "metadata": {
    "ExecuteTime": {
     "end_time": "2023-11-24T14:48:07.296497Z",
     "start_time": "2023-11-24T14:48:07.180385Z"
    },
    "id": "c954799b3f807251"
   },
   "outputs": [],
   "source": [
    "# Check that the function returns the correct output for some example inputs\n",
    "assert compute_hamming_distance(np.array(['A','T','C','G']), np.array(['A','T','C','G'])) == 0\n",
    "assert compute_hamming_distance(np.array(['A','T','C','G']), np.array(['A','T','C','T'])) == 1\n",
    "assert compute_hamming_distance(np.array(['A','T','C','G']), np.array(['A','T','C','A'])) == 1"
   ]
  },
  {
   "cell_type": "markdown",
   "id": "21fb3bb204e3f129",
   "metadata": {
    "id": "21fb3bb204e3f129"
   },
   "source": [
    "Question 3b [3pt].\n",
    "\n",
    "Construct a distance matrix for the species data. The distance matrix should be a pandas DataFrame, where the rows and columns are the species names, and the values are the Hamming distances between the species. Save this DataFrame as a variable named `distance_matrix`. The dimension of your dataframe should be 14 rows × 14 columns. Use the `compute_hamming_distance()` function you implemented in the previous part of the project to compute the Hamming distances between the species. You may find the functions `pdist()` and `squareform()` from the `scipy.spatial.distance` package useful."
   ]
  },
  {
   "cell_type": "code",
   "execution_count": 14,
   "id": "1236c8e675e8a1d1",
   "metadata": {
    "ExecuteTime": {
     "end_time": "2023-11-24T14:48:07.374682Z",
     "start_time": "2023-11-24T14:48:07.352361Z"
    },
    "id": "1236c8e675e8a1d1"
   },
   "outputs": [],
   "source": [
    "from scipy.spatial.distance import pdist, squareform\n",
    "\n",
    "def compute_pairwise_distances(data):\n",
    "    \n",
    "    \"\"\"\n",
    "    Computes the pairwise Hamming distances between the species.\n",
    "    :param data: (pd.DataFrame) dataframe containing the genomic data for each species. \n",
    "    The rows of the dataframe should be the species names, \n",
    "    and the columns should be the positions in the genomic sequences.\n",
    "    \n",
    "    :return: (pd.DataFrame) dataframe containing the pairwise Hamming distances between the species. \n",
    "    The rows and columns of the dataframe should be the species names.\n",
    "    \"\"\"\n",
    "\n",
    "    # YOUR CODE HERE\n",
    "    \n",
    "    # Function to be used with pdist\n",
    "    def hamming_wrapper(u, v):\n",
    "        return compute_hamming_distance(u, v)\n",
    "\n",
    "    # Convert the DataFrame to a NumPy array for distance calculation\n",
    "    data_array = data.to_numpy()\n",
    "\n",
    "    # Compute pairwise Hamming distances\n",
    "    pairwise_dist = pdist(data_array, metric=hamming_wrapper)\n",
    "\n",
    "    # Convert the pairwise distances to a square form DataFrame\n",
    "    distance_matrix = pd.DataFrame(squareform(pairwise_dist), index=data.index, columns=data.index)\n",
    "\n",
    "    assert isinstance(distance_matrix, pd.DataFrame), f\"\"\"\n",
    "    Distance matrix should be a DataFrame, not a {type(distance_matrix)}.\"\"\"\n",
    "    return distance_matrix"
   ]
  },
  {
   "cell_type": "code",
   "execution_count": 15,
   "id": "20e49034e7158e83",
   "metadata": {
    "ExecuteTime": {
     "end_time": "2023-11-24T14:48:07.431674Z",
     "start_time": "2023-11-24T14:48:07.407557Z"
    },
    "id": "20e49034e7158e83"
   },
   "outputs": [],
   "source": [
    "distance_matrix = compute_pairwise_distances(species_data)"
   ]
  },
  {
   "cell_type": "code",
   "execution_count": 16,
   "id": "e5b69589d7a604d6",
   "metadata": {
    "id": "e5b69589d7a604d6"
   },
   "outputs": [],
   "source": [
    "assert distance_matrix.shape == (14,14), 'Distance matrix is the incorrect shape'\n",
    "# Check to make sure that the index and columns of the distance matrix are the species names\n",
    "assert all(distance_matrix.index == species_data.index), 'The index of the distance matrix should be the species names.'"
   ]
  },
  {
   "cell_type": "markdown",
   "id": "8074dbe1481ce621",
   "metadata": {
    "id": "8074dbe1481ce621"
   },
   "source": [
    "We can visualize the results of our distance matrix by plotting a clustermap of the data. The clustermap will group the species based on their distances. The clustermap will also show the dendrogram of the hierarchical clustering algorithm. The dendrogram shows the order in which the species were clustered together. The dendrogram is useful for visualizing the hierarchical clustering algorithm, but we will implement our own version of the algorithm in the next part of the project.\n",
    "\n"
   ]
  },
  {
   "cell_type": "code",
   "execution_count": 17,
   "id": "1a48478961087eac",
   "metadata": {
    "ExecuteTime": {
     "end_time": "2023-11-24T14:48:07.854682Z",
     "start_time": "2023-11-24T14:48:07.566546Z"
    },
    "id": "1a48478961087eac"
   },
   "outputs": [
    {
     "data": {
      "text/plain": [
       "<Figure size 1000x1000 with 0 Axes>"
      ]
     },
     "metadata": {},
     "output_type": "display_data"
    },
    {
     "data": {
      "image/png": "[encoded data removed]",
      "text/plain": [
       "<Figure size 1000x1000 with 4 Axes>"
      ]
     },
     "metadata": {},
     "output_type": "display_data"
    }
   ],
   "source": [
    "# Suppress ClusterWarning from scipy\n",
    "import warnings\n",
    "from scipy.cluster.hierarchy import ClusterWarning\n",
    "warnings.simplefilter(action='ignore', category=ClusterWarning)\n",
    "\n",
    "plt.figure(figsize=(10,10))\n",
    "sns.clustermap(distance_matrix, cmap='Blues')\n",
    "plt.title('Hamming Distance Between Species')\n",
    "plt.show()\n",
    "plt.close()\n"
   ]
  },
  {
   "cell_type": "markdown",
   "id": "d625a5773215e9de",
   "metadata": {
    "id": "d625a5773215e9de"
   },
   "source": [
    "Question 3c [1pt].\n",
    "\n",
    "We will now implement the hierarchical clustering algorithm. We will cluster species as follows: Given a distance matrix, we will find the pair of species that are closest together, and merge them into a single cluster. Suppose the closest pair of species are species A and species B. The merged cluster is represented as (A,B) and the distance from the merged cluster (A,B) to another species C is the average of the distances from A to C and B to C. We will repeat this process until all the species are clustered together.\n",
    "\n",
    "The result from this clustering will be a Newick string representing the phylogenetic relation between species. For example the Newick string ((A,B),(C,D)) represents the following phylogenetic tree (where A, B, C, and D are species):"
   ]
  },
  {
   "cell_type": "code",
   "execution_count": 18,
   "id": "b7430068f8a1222e",
   "metadata": {
    "ExecuteTime": {
     "end_time": "2023-11-24T14:48:07.858599Z",
     "start_time": "2023-11-24T14:48:07.856137Z"
    },
    "id": "b7430068f8a1222e"
   },
   "outputs": [
    {
     "name": "stdout",
     "output_type": "stream",
     "text": [
      "            ________|________\n",
      "            |                |\n",
      "            |                |\n",
      "        _________       _________\n",
      "        |       |       |       |\n",
      "        |       |       |       |\n",
      "        A       B      C        D\n",
      "\n",
      "Newick string: ((A,B),(C,D))\n"
     ]
    }
   ],
   "source": [
    "visualize_newick = \"\"\"            ________|________\n",
    "            |                |\n",
    "            |                |\n",
    "        _________       _________\n",
    "        |       |       |       |\n",
    "        |       |       |       |\n",
    "        A       B      C        D\n",
    "\"\"\"\n",
    "print(visualize_newick)\n",
    "print('Newick string: ((A,B),(C,D))')"
   ]
  },
  {
   "cell_type": "code",
   "execution_count": 19,
   "id": "6f1e54d334354e4c",
   "metadata": {
    "ExecuteTime": {
     "end_time": "2023-11-24T14:48:07.865889Z",
     "start_time": "2023-11-24T14:48:07.860458Z"
    },
    "id": "6f1e54d334354e4c"
   },
   "outputs": [],
   "source": [
    "# First, here are some helper functions to help us with the clustering algorithm\n",
    "\n",
    "def get_most_similar_species(distances):\n",
    "    \"\"\" Return the column names of the two most similar species in the distance\n",
    "        matrix.\n",
    "\n",
    "        For example if we have a DataFrame:\n",
    "        \t    A\tB\tC\n",
    "        index\n",
    "            A\tnan\t5\t2\n",
    "            B\t5\tnan\t1\n",
    "            C   2   1   nan\n",
    "\n",
    "        We would return (B,C) or (C,B) - doesn't matter which one.\n",
    "\n",
    "        @param: distances (pd.DataFrame of dimension n_species x n_species)\n",
    "        @return tuple containing the names of (species1, species2)\n",
    "    \"\"\"\n",
    "\n",
    "    ix1, ix2 =  np.unravel_index(np.nanargmin(distances), distances.shape)\n",
    "    return distances.columns[ix1], distances.columns[ix2]\n",
    "\n",
    "def merge_distances(distances, species1, species2):\n",
    "    \"\"\"\n",
    "    Replace the distance of each species to species1 and to species2 with its\n",
    "    distance to the merged node (species1, species2).\n",
    "    Removes species1 and species2 from the distance matrix.\n",
    "    @param: distances - (pd.DataFrame) with shape n_species x n_species\n",
    "    @param: species1 - (str) name of species1\n",
    "    @param: species2 - (str) name of species2\n",
    "\n",
    "    @return: distances - (pd.DataFrame) with shape n_species-1 x n_species-1\n",
    "\n",
    "    \"\"\"\n",
    "    merged = f'({species1},{species2})'\n",
    "    distances[merged] = (distances[species1]+distances[species2])/2\n",
    "    distances = pd.concat([distances, distances[[merged]].T])\n",
    "    for axis in [0,1]:\n",
    "        for species in [species1, species2]:\n",
    "            distances.drop(species, axis=axis, inplace=True)\n",
    "    return distances\n",
    "\n",
    "# Now we will implement the hierarchical clustering algorithm\n",
    "def hierarchical_clustering(distances):\n",
    "    \"\"\"\n",
    "    Perform hierarchical clustering on the species using the distances between\n",
    "    them.\n",
    "    @param: distances - (pd.DataFrame) with shape n_species x n_species\n",
    "    @return: newick_string - (str) newick string representing the phylogenetic\n",
    "                             tree\n",
    "    \"\"\"\n",
    "    \n",
    "    # Make a copy of the distance matrix so that we don't modify the original\n",
    "    distances = distances.copy()\n",
    "    # Fill the diagonal of the distance matrix with np.nan; otherwise, the diagonal will be the minimum distance (and there is no\n",
    "    # point in comparing a species to itself)\n",
    "    np.fill_diagonal(distances.values, np.nan)\n",
    "    # Hierarchical Clustering\n",
    "    while len(distances) > 1:\n",
    "        # Find the most similar pair of species\n",
    "        species1, species2 = get_most_similar_species(distances)\n",
    "        #raise NotImplementedError\n",
    "\n",
    "        # We now replace the distance from every species to species 1 and to\n",
    "        # species 2 with the average distance to both species\n",
    "        distances = merge_distances(distances, species1, species2)\n",
    "       # raise NotImplementedError\n",
    "\n",
    "    # Return the Newick string\n",
    "    return distances.columns.values[0]\n"
   ]
  },
  {
   "cell_type": "code",
   "execution_count": 20,
   "id": "328c8e8e65aaf23",
   "metadata": {
    "ExecuteTime": {
     "end_time": "2023-11-24T14:48:08.061444Z",
     "start_time": "2023-11-24T14:48:08.023502Z"
    },
    "id": "328c8e8e65aaf23",
    "scrolled": true
   },
   "outputs": [
    {
     "name": "stdout",
     "output_type": "stream",
     "text": [
      "Newick string:  (Mouse,((Tarsier,Lemur),(Bovine,(Squir Monk,((BarbMacaq,(Crab Eating Macaq,(Jpn Macaq,Rhesus Mac))),(Gibbon,(Orang,(Gorilla,(Chimp,Human)))))))))\n"
     ]
    }
   ],
   "source": [
    "newick_string = hierarchical_clustering(distance_matrix)\n",
    "print(\"Newick string: \", newick_string)"
   ]
  },
  {
   "cell_type": "code",
   "execution_count": 21,
   "id": "8741fa17",
   "metadata": {},
   "outputs": [],
   "source": [
    "assert newick_string == '(Mouse,((Tarsier,Lemur),(Bovine,(Squir Monk,((BarbMacaq,(Crab Eating Macaq,(Jpn Macaq,Rhesus Mac))),(Gibbon,(Orang,(Gorilla,(Chimp,Human)))))))))', 'The Newick string is incorrect.'"
   ]
  },
  {
   "cell_type": "markdown",
   "id": "e8e54df02ced97af",
   "metadata": {
    "id": "e8e54df02ced97af"
   },
   "source": [
    "# Part 4: Constructing the Phylogenetic Tree Object (4pts)\n",
    "\n",
    "In this part of the project, you will implement a TreeNode class to represent the nodes of a phylogenetic tree. You will then use this class to construct a phylogenetic tree from the newick string you computed in the previous part of the project.\n",
    "\n",
    "This class represents a node in a phylogenetic tree. Each node has a name, sequence, a left child, a right child, and a parent. The left child, right child, and parent are all TreeNode objects. If a node does not have a left child, right child, or parent, the corresponding attribute is None. For nodes that do not have a sequence (i.e. internal nodes), the sequence is an empty string. The sequence should be a list of nucleotides, as in the previous parts of the project, and should be a private attribute of the class.\n",
    "\n",
    "Question 4a [4pt].\n",
    "\n",
    "Implement the TreeNode class below, being sure to include the attributes described above (name, sequence, left_child, right_child, parent). The constructor should take in a name and a sequence as arguments, and should initialize the left_child, right_child, and parent attributes to None. The sequence should be stored as a private attribute.\n",
    "\n",
    "Question 4b [1pt].\n",
    "\n",
    "Implement the method `get_sequence()`, which returns the sequence of the node. Be sure to return a copy of the sequence, rather than the sequence itself.\n",
    "\n",
    "Question 4c [3pt].\n",
    "\n",
    "Implement the methods `add_left_child(left_child)` and `add_right_child(right_child)`, which add a left child and right child to the node, respectively. The left and right children should be TreeNode objects. The left child should be assigned to the left_child attribute, and the right child should be assigned to the right_child attribute. The parent of the left and right children should be set to the current node. Check that the left and right children are TreeNode objects, and raise a TypeError if they are not. Make sure that the parent of the left and right children is set to the current node.\n",
    "\n",
    "Question 4d [2pt].\n",
    "Implement the methods `is_leaf()` and `is_root()`, which return True if the node is a leaf or root, respectively, and False otherwise.\n"
   ]
  },
  {
   "cell_type": "code",
   "execution_count": 22,
   "id": "de7daf9e60105457",
   "metadata": {
    "ExecuteTime": {
     "end_time": "2023-11-24T14:48:08.160803Z",
     "start_time": "2023-11-24T14:48:08.149705Z"
    },
    "id": "de7daf9e60105457"
   },
   "outputs": [],
   "source": [
    "class TreeNode:\n",
    "    \n",
    "    def __init__(self, name, sequence):\n",
    "        \"\"\"\n",
    "        Initialize a TreeNode object.\n",
    "        :param name: (str) name of the node\n",
    "        :param sequence: (list) sequence of nucleotides\n",
    "        \"\"\"\n",
    "        self.name = name\n",
    "        self._sequence = sequence  # Private attribute\n",
    "        self.left_child = None\n",
    "        self.right_child = None\n",
    "        self.parent = None\n",
    "\n",
    "    def get_sequence(self):\n",
    "        \n",
    "        \"\"\"\n",
    "        Returns the sequence of the node.\n",
    "        :return: (list) sequence of nucleotides\n",
    "        \"\"\"\n",
    "        \n",
    "        return self._sequence.copy()\n",
    "\n",
    "        #raise NotImplementedError\n",
    "\n",
    "    def add_left_child(self, left_child):\n",
    "        \"\"\"\n",
    "        Adds a left child to the node. Make sure to set the parent of the left child to the current node.\n",
    "        :param left_child: (TreeNode) left child of the node\n",
    "        :return: None\n",
    "        \"\"\"\n",
    "        \n",
    "        if not isinstance(left_child, TreeNode):\n",
    "            raise TypeError(\"left_child must be a TreeNode object\")\n",
    "        self.left_child = left_child\n",
    "        left_child.parent = self\n",
    "\n",
    "    def add_right_child(self, right_child):\n",
    "        \"\"\"\n",
    "        Adds a right child to the node. Make sure to set the parent of the left child to the current node.\n",
    "        :param right_child:\n",
    "        :return: None\n",
    "        \"\"\"\n",
    "        \n",
    "        if not isinstance(right_child, TreeNode):\n",
    "            raise TypeError(\"right_child must be a TreeNode object\")\n",
    "        self.right_child = right_child\n",
    "        right_child.parent = self\n",
    "        \n",
    "        #raise NotImplementedError\n",
    "\n",
    "    def is_leaf(self):\n",
    "        \"\"\"\n",
    "        Returns True if the node is a leaf, and False otherwise.\n",
    "        :return: (bool) True if the node is a leaf, and False otherwise\n",
    "        \"\"\"\n",
    "        \n",
    "        return self.left_child is None and self.right_child is None\n",
    "\n",
    "        \n",
    "        #raise NotImplementedError\n",
    "\n",
    "    def is_root(self):\n",
    "        \"\"\"\n",
    "        Returns True if the node is the root, and False otherwise.\n",
    "        :return: (bool) True if the node is the root, and False otherwise\n",
    "        \"\"\"\n",
    "        \n",
    "        return self.parent is None\n",
    "        \n",
    "        #raise NotImplementedError\n",
    "\n",
    "    def __str__(self):\n",
    "        \"\"\"\n",
    "        Returns a string representation of the node. We will use this method to print the full tree as a Newick string.\n",
    "        :return: (str) string representation of the node\n",
    "        \"\"\"\n",
    "        if self.is_leaf():\n",
    "            return self.name\n",
    "        else:\n",
    "            return f'({self.left_child},{self.right_child})'\n",
    "\n",
    "    def show(self):\n",
    "        \"\"\"\n",
    "        Prints the full tree rooted at this node. We will make use of ete3 to display the tree.\n",
    "        \"\"\"\n",
    "        from ete3 import Tree\n",
    "        t = Tree(self.__str__()+';')\n",
    "        t.show()\n",
    "\n",
    "    def ascii(self):\n",
    "        \"\"\"\n",
    "        Returns an ascii representation of the tree rooted at this node. We will use this method to display the tree in the terminal.\n",
    "        :return: (str) ascii representation of the tree rooted at this node\n",
    "        \"\"\"\n",
    "        from ete3 import Tree\n",
    "        t = Tree(self.__str__()+';')\n",
    "        return t.get_ascii(show_internal=True)\n",
    "\n"
   ]
  },
  {
   "cell_type": "markdown",
   "id": "6e9331f8fbd3b876",
   "metadata": {
    "id": "6e9331f8fbd3b876"
   },
   "source": [
    "Question 4e [3pt].\n",
    "\n",
    "Now we have both (1) a newick representation of the phylogenetic tree, and (2) a class implemented to handle tree-structured data. We then need to write a function to convert the newick string into an instance of the TreeNode class. Use the helper function `split_newick()` below to implement a recursive function that takes a newick string as input and constructs a TreeNode.\n",
    "\n",
    "*Potential Hints: * First, define the base case of your function - a single node is represented in a newick string as just the name of the node. For example, we can break down the tree ((A,B),C) into a left tree (A,B) and a right tree C. The right tree is a leaf node, and does not need to be further broken down.\n"
   ]
  },
  {
   "cell_type": "code",
   "execution_count": 23,
   "id": "4c1d9b74936cba3d",
   "metadata": {
    "ExecuteTime": {
     "end_time": "2023-11-24T14:48:08.322767Z",
     "start_time": "2023-11-24T14:48:08.314971Z"
    },
    "id": "4c1d9b74936cba3d"
   },
   "outputs": [],
   "source": [
    "# First, here is a helper function to use to parse your newick string.\n",
    "def split_newick(newick_str):\n",
    "    \"\"\"\n",
    "    Splits the Newick string into the left and right subtrees of the root node.\n",
    "    For example, if the Newick string is ((A,B),(C,D)), this function will return\n",
    "    the strings (A,B) and (C,D).\n",
    "    :param newick_str: (str) newick string representing the phylogenetic tree\n",
    "    :return: (str, str) left and right subtrees of the root node\n",
    "    \"\"\"\n",
    "    if not newick_str.startswith('(') or not newick_str.endswith(')'):\n",
    "        raise ValueError(\"Invalid Newick format\")\n",
    "\n",
    "    subtrees = []\n",
    "    open_paren = 0\n",
    "    start_index = 1  # Start after the first opening parenthesis\n",
    "\n",
    "    for i, char in enumerate(newick_str[1:], start=1):  # Skip the first character\n",
    "        if char == '(':\n",
    "            open_paren += 1\n",
    "        elif char == ')':\n",
    "            open_paren -= 1\n",
    "        elif char == ',' and open_paren == 0:\n",
    "            subtrees.append(newick_str[start_index:i].strip())\n",
    "            start_index = i + 1\n",
    "\n",
    "    subtrees.append(newick_str[start_index:-1].strip())  # Add the last subtree\n",
    "\n",
    "    return subtrees\n",
    "\n",
    "# Now, we implement the actual function to convert our data\n",
    "\n",
    "def parse_newick_string(newick, species_data):\n",
    "    \"\"\"\n",
    "    Parses the Newick string and returns the root node of the phylogenetic tree.\n",
    "    We will implement a recursive algorithm to parse the Newick string.\n",
    "\n",
    "    The following are examples of Newick strings:\n",
    "    (A,B)\n",
    "    ((A,B),C)\n",
    "    ((A,B),(C,D))\n",
    "    (((A,B),(C,D)),E)\n",
    "\n",
    "    Given a newick string, we can see that the outermost parentheses contain the two subtrees of the root node.\n",
    "    In the first example, the two subtrees are A and B. In the second example, the two subtrees are (A,B) and C.\n",
    "    In the third example, the two subtrees are (A,B) and (C,D). In the fourth example, the two subtrees are ((A,B),(C,D)) and E.\n",
    "\n",
    "    We can use this observation to recursively parse the Newick string. We will start by finding the outermost parentheses.\n",
    "    We will then find the comma that separates the two subtrees of the root node. We will then recursively parse the Newick\n",
    "    strings for the left and right subtrees.\n",
    "\n",
    "    :param newick: (str) newick string representing the phylogenetic tree\n",
    "    :param species_data: (pd.DataFrame) dataframe containing the genomic data for each species. The rows of the dataframe should be the species names, and the columns should be the positions in the genomic sequences.\n",
    "    :return: (TreeNode) root node of the phylogenetic tree\n",
    "    \"\"\"\n",
    "\n",
    "    # Base case: If the newick string is a leaf node, return the leaf node\n",
    "    \n",
    "    if '(' not in newick and ')' not in newick:\n",
    "        # Create and return a leaf node with the corresponding sequence from the species data\n",
    "        sequence = species_data.loc[newick].tolist() if newick in species_data.index else []\n",
    "        return TreeNode(name=newick, sequence=sequence)\n",
    "\n",
    "    # Separate the left and right subtrees of the root node\n",
    "    left_newick, right_newick = split_newick(newick)\n",
    "\n",
    "    # Create the root node\n",
    "    root = TreeNode(name=newick, sequence=[])\n",
    "\n",
    "    # Recursively parse the left and right subtrees\n",
    "    \n",
    "    left_child = parse_newick_string(left_newick, species_data)\n",
    "    right_child = parse_newick_string(right_newick, species_data)\n",
    "\n",
    "    root.add_left_child(left_child)\n",
    "    root.add_right_child(right_child)\n",
    "\n",
    "    #raise NotImplementedError\n",
    "\n",
    "    return root\n"
   ]
  },
  {
   "cell_type": "code",
   "execution_count": 24,
   "id": "2288c8d40cf270df",
   "metadata": {
    "ExecuteTime": {
     "end_time": "2023-11-24T14:48:08.419746Z",
     "start_time": "2023-11-24T14:48:08.414084Z"
    },
    "id": "2288c8d40cf270df"
   },
   "outputs": [
    {
     "data": {
      "text/html": [
       "<div>\n",
       "<style scoped>\n",
       "    .dataframe tbody tr th:only-of-type {\n",
       "        vertical-align: middle;\n",
       "    }\n",
       "\n",
       "    .dataframe tbody tr th {\n",
       "        vertical-align: top;\n",
       "    }\n",
       "\n",
       "    .dataframe thead th {\n",
       "        text-align: right;\n",
       "    }\n",
       "</style>\n",
       "<table border=\"1\" class=\"dataframe\">\n",
       "  <thead>\n",
       "    <tr style=\"text-align: right;\">\n",
       "      <th></th>\n",
       "      <th>0</th>\n",
       "      <th>1</th>\n",
       "      <th>2</th>\n",
       "      <th>3</th>\n",
       "    </tr>\n",
       "  </thead>\n",
       "  <tbody>\n",
       "    <tr>\n",
       "      <th>A</th>\n",
       "      <td>0</td>\n",
       "      <td>1</td>\n",
       "      <td>2</td>\n",
       "      <td>3</td>\n",
       "    </tr>\n",
       "    <tr>\n",
       "      <th>B</th>\n",
       "      <td>0</td>\n",
       "      <td>1</td>\n",
       "      <td>2</td>\n",
       "      <td>3</td>\n",
       "    </tr>\n",
       "    <tr>\n",
       "      <th>C</th>\n",
       "      <td>0</td>\n",
       "      <td>1</td>\n",
       "      <td>2</td>\n",
       "      <td>3</td>\n",
       "    </tr>\n",
       "    <tr>\n",
       "      <th>D</th>\n",
       "      <td>0</td>\n",
       "      <td>1</td>\n",
       "      <td>2</td>\n",
       "      <td>3</td>\n",
       "    </tr>\n",
       "    <tr>\n",
       "      <th>E</th>\n",
       "      <td>0</td>\n",
       "      <td>1</td>\n",
       "      <td>2</td>\n",
       "      <td>3</td>\n",
       "    </tr>\n",
       "  </tbody>\n",
       "</table>\n",
       "</div>"
      ],
      "text/plain": [
       "   0  1  2  3\n",
       "A  0  1  2  3\n",
       "B  0  1  2  3\n",
       "C  0  1  2  3\n",
       "D  0  1  2  3\n",
       "E  0  1  2  3"
      ]
     },
     "execution_count": 24,
     "metadata": {},
     "output_type": "execute_result"
    }
   ],
   "source": [
    "# Example newick string\n",
    "n1 = '((A,B),(C,D))'\n",
    "n2 = '((A,B),(C,(D,E)))'\n",
    "\n",
    "test_data = pd.DataFrame({'A': [0, 1, 2, 3], 'B': [0, 1, 2, 3], 'C': [0, 1, 2, 3], 'D': [0, 1, 2, 3], 'E': [0, 1, 2, 3]}).T\n",
    "test_data"
   ]
  },
  {
   "cell_type": "code",
   "execution_count": 25,
   "id": "1731c2dd202571b",
   "metadata": {
    "ExecuteTime": {
     "end_time": "2023-11-24T14:48:08.627358Z",
     "start_time": "2023-11-24T14:48:08.510145Z"
    },
    "id": "1731c2dd202571b"
   },
   "outputs": [
    {
     "name": "stdout",
     "output_type": "stream",
     "text": [
      "\n",
      "      /-A\n",
      "   /-|\n",
      "  |   \\-B\n",
      "--|\n",
      "  |   /-C\n",
      "   \\-|\n",
      "      \\-D\n"
     ]
    }
   ],
   "source": [
    "t1 = parse_newick_string(n1, test_data)\n",
    "print(t1.ascii())"
   ]
  },
  {
   "cell_type": "code",
   "execution_count": 26,
   "id": "7d1d45d16c09a22a",
   "metadata": {
    "ExecuteTime": {
     "end_time": "2023-11-24T14:48:08.631136Z",
     "start_time": "2023-11-24T14:48:08.627626Z"
    },
    "id": "7d1d45d16c09a22a"
   },
   "outputs": [
    {
     "name": "stdout",
     "output_type": "stream",
     "text": [
      "\n",
      "      /-A\n",
      "   /-|\n",
      "  |   \\-B\n",
      "--|\n",
      "  |   /-C\n",
      "   \\-|\n",
      "     |   /-D\n",
      "      \\-|\n",
      "         \\-E\n"
     ]
    }
   ],
   "source": [
    "t2 = parse_newick_string(n2, test_data)\n",
    "print(t2.ascii())"
   ]
  },
  {
   "cell_type": "markdown",
   "id": "cbf83d76a327641d",
   "metadata": {
    "id": "cbf83d76a327641d"
   },
   "source": [
    "Question 4f [2pt].\n",
    "Use the `parse_newick_string()` function you implemented to construct a phylogenetic tree from the newick string you computed in the previous part of the project. Save the root node of the tree as a variable named `tree`. Print the ascii representation of the tree using the `ascii()` method of the root node."
   ]
  },
  {
   "cell_type": "code",
   "execution_count": 27,
   "id": "2529cdadf300a451",
   "metadata": {
    "ExecuteTime": {
     "end_time": "2023-11-24T14:48:08.739289Z",
     "start_time": "2023-11-24T14:48:08.732334Z"
    },
    "id": "2529cdadf300a451"
   },
   "outputs": [],
   "source": [
    "# Parse the tree\n",
    "# YOUR CODE HERE\n",
    "\n",
    "tree = parse_newick_string(newick_string, species_data)\n",
    "\n",
    "#raise NotImplementedError"
   ]
  },
  {
   "cell_type": "code",
   "execution_count": 28,
   "id": "f14ca1b816b97c54",
   "metadata": {
    "ExecuteTime": {
     "end_time": "2023-11-24T14:48:08.842266Z",
     "start_time": "2023-11-24T14:48:08.829610Z"
    },
    "id": "f14ca1b816b97c54"
   },
   "outputs": [
    {
     "name": "stdout",
     "output_type": "stream",
     "text": [
      "\n",
      "   /-Mouse\n",
      "  |\n",
      "--|      /-Tarsier\n",
      "  |   /-|\n",
      "  |  |   \\-Lemur\n",
      "   \\-|\n",
      "     |   /-Bovine\n",
      "     |  |\n",
      "      \\-|   /-Squir Monk\n",
      "        |  |\n",
      "        |  |      /-BarbMacaq\n",
      "         \\-|   /-|\n",
      "           |  |  |   /-Crab Eating Macaq\n",
      "           |  |   \\-|\n",
      "           |  |     |   /-Jpn Macaq\n",
      "            \\-|      \\-|\n",
      "              |         \\-Rhesus Mac\n",
      "              |\n",
      "              |   /-Gibbon\n",
      "               \\-|\n",
      "                 |   /-Orang\n",
      "                  \\-|\n",
      "                    |   /-Gorilla\n",
      "                     \\-|\n",
      "                       |   /-Chimp\n",
      "                        \\-|\n",
      "                           \\-Human\n"
     ]
    }
   ],
   "source": [
    "# Print the tree\n",
    "# YOUR CODE HERE\n",
    "\n",
    "print(tree.ascii())\n",
    "\n",
    "#raise NotImplementedError"
   ]
  },
  {
   "cell_type": "code",
   "execution_count": 29,
   "id": "f9ba510ba8484f58",
   "metadata": {
    "ExecuteTime": {
     "end_time": "2023-11-24T14:48:08.926141Z",
     "start_time": "2023-11-24T14:48:08.911682Z"
    },
    "id": "f9ba510ba8484f58"
   },
   "outputs": [
    {
     "ename": "ImportError",
     "evalue": "dlopen(/Users/ethanyoder/anaconda3/anaconda3/lib/python3.11/site-packages/PyQt5/QtGui.abi3.so, 0x0002): Library not loaded: @rpath/QtGui.framework/Versions/5/QtGui\n  Referenced from: <6F638E87-E05D-3279-8AFF-6402859851B5> /Users/ethanyoder/anaconda3/anaconda3/lib/python3.11/site-packages/PyQt5/QtGui.abi3.so\n  Reason: tried: '/Users/ethanyoder/anaconda3/anaconda3/lib/python3.11/site-packages/PyQt5/Qt5/lib/QtGui.framework/Versions/5/QtGui' (no such file), '/Users/ethanyoder/anaconda3/anaconda3/lib/python3.11/site-packages/PyQt5/Qt5/lib/QtGui.framework/Versions/5/QtGui' (no such file), '/Users/ethanyoder/anaconda3/anaconda3/bin/../lib/QtGui.framework/Versions/5/QtGui' (no such file), '/Users/ethanyoder/anaconda3/anaconda3/bin/../lib/QtGui.framework/Versions/5/QtGui' (no such file), '/Library/Frameworks/QtGui.framework/Versions/5/QtGui' (no such file), '/System/Library/Frameworks/QtGui.framework/Versions/5/QtGui' (no such file, not in dyld cache)",
     "output_type": "error",
     "traceback": [
      "\u001b[0;31m---------------------------------------------------------------------------\u001b[0m",
      "\u001b[0;31mModuleNotFoundError\u001b[0m                       Traceback (most recent call last)",
      "File \u001b[0;32m~/anaconda3/anaconda3/lib/python3.11/site-packages/ete3/treeview/qt.py:2\u001b[0m\n\u001b[1;32m      1\u001b[0m \u001b[38;5;28;01mtry\u001b[39;00m:\n\u001b[0;32m----> 2\u001b[0m     \u001b[38;5;28;01mfrom\u001b[39;00m \u001b[38;5;21;01mPyQt4\u001b[39;00m \u001b[38;5;28;01mimport\u001b[39;00m QtGui, QtCore\n\u001b[1;32m      3\u001b[0m     \u001b[38;5;28;01mfrom\u001b[39;00m \u001b[38;5;21;01mPyQt4\u001b[39;00m\u001b[38;5;21;01m.\u001b[39;00m\u001b[38;5;21;01mQtCore\u001b[39;00m \u001b[38;5;28;01mimport\u001b[39;00m (Qt, QPointF, QRect, QLineF, QRectF, QBuffer, QByteArray,\n\u001b[1;32m      4\u001b[0m                               QThread, QIODevice, QMetaObject, QModelIndex, QObject, QRegExp, QSize,\n\u001b[1;32m      5\u001b[0m                               QSizeF,QVariant )\n",
      "\u001b[0;31mModuleNotFoundError\u001b[0m: No module named 'PyQt4'",
      "\nDuring handling of the above exception, another exception occurred:\n",
      "\u001b[0;31mImportError\u001b[0m                               Traceback (most recent call last)",
      "Cell \u001b[0;32mIn[29], line 4\u001b[0m\n\u001b[1;32m      1\u001b[0m \u001b[38;5;66;03m# Uncomment the following line to display the tree in an interactive window\u001b[39;00m\n\u001b[0;32m----> 4\u001b[0m tree\u001b[38;5;241m.\u001b[39mshow()\n",
      "Cell \u001b[0;32mIn[22], line 89\u001b[0m, in \u001b[0;36mTreeNode.show\u001b[0;34m(self)\u001b[0m\n\u001b[1;32m     87\u001b[0m \u001b[38;5;28;01mfrom\u001b[39;00m \u001b[38;5;21;01mete3\u001b[39;00m \u001b[38;5;28;01mimport\u001b[39;00m Tree\n\u001b[1;32m     88\u001b[0m t \u001b[38;5;241m=\u001b[39m Tree(\u001b[38;5;28mself\u001b[39m\u001b[38;5;241m.\u001b[39m\u001b[38;5;21m__str__\u001b[39m()\u001b[38;5;241m+\u001b[39m\u001b[38;5;124m'\u001b[39m\u001b[38;5;124m;\u001b[39m\u001b[38;5;124m'\u001b[39m)\n\u001b[0;32m---> 89\u001b[0m t\u001b[38;5;241m.\u001b[39mshow()\n",
      "File \u001b[0;32m~/anaconda3/anaconda3/lib/python3.11/site-packages/ete3/coretype/tree.py:1362\u001b[0m, in \u001b[0;36mTreeNode.show\u001b[0;34m(self, layout, tree_style, name)\u001b[0m\n\u001b[1;32m   1356\u001b[0m \u001b[38;5;28;01mdef\u001b[39;00m \u001b[38;5;21mshow\u001b[39m(\u001b[38;5;28mself\u001b[39m, layout\u001b[38;5;241m=\u001b[39m\u001b[38;5;28;01mNone\u001b[39;00m, tree_style\u001b[38;5;241m=\u001b[39m\u001b[38;5;28;01mNone\u001b[39;00m, name\u001b[38;5;241m=\u001b[39m\u001b[38;5;124m\"\u001b[39m\u001b[38;5;124mETE\u001b[39m\u001b[38;5;124m\"\u001b[39m):\n\u001b[1;32m   1357\u001b[0m \u001b[38;5;250m    \u001b[39m\u001b[38;5;124;03m\"\"\"\u001b[39;00m\n\u001b[1;32m   1358\u001b[0m \u001b[38;5;124;03m    Starts an interactive session to visualize current node\u001b[39;00m\n\u001b[1;32m   1359\u001b[0m \u001b[38;5;124;03m    structure using provided layout and TreeStyle.\u001b[39;00m\n\u001b[1;32m   1360\u001b[0m \n\u001b[1;32m   1361\u001b[0m \u001b[38;5;124;03m    \"\"\"\u001b[39;00m\n\u001b[0;32m-> 1362\u001b[0m     \u001b[38;5;28;01mfrom\u001b[39;00m \u001b[38;5;21;01m.\u001b[39;00m\u001b[38;5;21;01m.\u001b[39;00m\u001b[38;5;21;01mtreeview\u001b[39;00m \u001b[38;5;28;01mimport\u001b[39;00m drawer\n\u001b[1;32m   1363\u001b[0m     drawer\u001b[38;5;241m.\u001b[39mshow_tree(\u001b[38;5;28mself\u001b[39m, layout\u001b[38;5;241m=\u001b[39mlayout,\n\u001b[1;32m   1364\u001b[0m                      tree_style\u001b[38;5;241m=\u001b[39mtree_style, win_name\u001b[38;5;241m=\u001b[39mname)\n",
      "File \u001b[0;32m~/anaconda3/anaconda3/lib/python3.11/site-packages/ete3/treeview/__init__.py:42\u001b[0m\n\u001b[1;32m      1\u001b[0m \u001b[38;5;28;01mfrom\u001b[39;00m \u001b[38;5;21;01m__future__\u001b[39;00m \u001b[38;5;28;01mimport\u001b[39;00m absolute_import\n\u001b[1;32m      2\u001b[0m \u001b[38;5;66;03m# #START_LICENSE###########################################################\u001b[39;00m\n\u001b[1;32m      3\u001b[0m \u001b[38;5;66;03m#\u001b[39;00m\n\u001b[1;32m      4\u001b[0m \u001b[38;5;66;03m#\u001b[39;00m\n\u001b[0;32m   (...)\u001b[0m\n\u001b[1;32m     38\u001b[0m \u001b[38;5;66;03m#\u001b[39;00m\n\u001b[1;32m     39\u001b[0m \u001b[38;5;66;03m# #END_LICENSE#############################################################\u001b[39;00m\n\u001b[0;32m---> 42\u001b[0m \u001b[38;5;28;01mfrom\u001b[39;00m \u001b[38;5;21;01m.\u001b[39;00m\u001b[38;5;21;01mmain\u001b[39;00m \u001b[38;5;28;01mimport\u001b[39;00m \u001b[38;5;241m*\u001b[39m\n\u001b[1;32m     43\u001b[0m \u001b[38;5;28;01mfrom\u001b[39;00m \u001b[38;5;21;01m.\u001b[39;00m\u001b[38;5;21;01mfaces\u001b[39;00m \u001b[38;5;28;01mimport\u001b[39;00m \u001b[38;5;241m*\u001b[39m\n\u001b[1;32m     44\u001b[0m \u001b[38;5;28;01mfrom\u001b[39;00m \u001b[38;5;21;01m.\u001b[39;00m\u001b[38;5;21;01msvg_colors\u001b[39;00m \u001b[38;5;28;01mimport\u001b[39;00m \u001b[38;5;241m*\u001b[39m\n",
      "File \u001b[0;32m~/anaconda3/anaconda3/lib/python3.11/site-packages/ete3/treeview/main.py:48\u001b[0m\n\u001b[1;32m     45\u001b[0m \u001b[38;5;28;01mimport\u001b[39;00m \u001b[38;5;21;01mtypes\u001b[39;00m\n\u001b[1;32m     46\u001b[0m \u001b[38;5;28;01mfrom\u001b[39;00m \u001b[38;5;21;01msys\u001b[39;00m \u001b[38;5;28;01mimport\u001b[39;00m stderr\n\u001b[0;32m---> 48\u001b[0m \u001b[38;5;28;01mfrom\u001b[39;00m \u001b[38;5;21;01m.\u001b[39;00m\u001b[38;5;21;01mqt\u001b[39;00m \u001b[38;5;28;01mimport\u001b[39;00m \u001b[38;5;241m*\u001b[39m\n\u001b[1;32m     50\u001b[0m \u001b[38;5;28;01mfrom\u001b[39;00m \u001b[38;5;21;01m.\u001b[39;00m\u001b[38;5;21;01msvg_colors\u001b[39;00m \u001b[38;5;28;01mimport\u001b[39;00m SVG_COLORS, COLOR_SCHEMES\n\u001b[1;32m     52\u001b[0m \u001b[38;5;28;01mimport\u001b[39;00m \u001b[38;5;21;01mtime\u001b[39;00m\n",
      "File \u001b[0;32m~/anaconda3/anaconda3/lib/python3.11/site-packages/ete3/treeview/qt.py:27\u001b[0m\n\u001b[1;32m     24\u001b[0m     \u001b[38;5;28;01mfrom\u001b[39;00m \u001b[38;5;21;01mPyQt4\u001b[39;00m\u001b[38;5;21;01m.\u001b[39;00m\u001b[38;5;21;01mQtOpenGL\u001b[39;00m \u001b[38;5;28;01mimport\u001b[39;00m QGLFormat, QGLWidget\n\u001b[1;32m     26\u001b[0m \u001b[38;5;28;01mexcept\u001b[39;00m \u001b[38;5;167;01mImportError\u001b[39;00m:\n\u001b[0;32m---> 27\u001b[0m     \u001b[38;5;28;01mfrom\u001b[39;00m \u001b[38;5;21;01mPyQt5\u001b[39;00m \u001b[38;5;28;01mimport\u001b[39;00m QtGui, QtCore\n\u001b[1;32m     29\u001b[0m     \u001b[38;5;66;03m# Fixes incompatibilities due to new overflow checking when converting integers introduced in qt 5.12\u001b[39;00m\n\u001b[1;32m     30\u001b[0m     \u001b[38;5;66;03m# https://www.riverbankcomputing.com/static/Docs/PyQt5/incompatibilities.html#pyqt-v5-12\u001b[39;00m\n\u001b[1;32m     31\u001b[0m     \u001b[38;5;28;01mimport\u001b[39;00m \u001b[38;5;21;01msip\u001b[39;00m\n",
      "\u001b[0;31mImportError\u001b[0m: dlopen(/Users/ethanyoder/anaconda3/anaconda3/lib/python3.11/site-packages/PyQt5/QtGui.abi3.so, 0x0002): Library not loaded: @rpath/QtGui.framework/Versions/5/QtGui\n  Referenced from: <6F638E87-E05D-3279-8AFF-6402859851B5> /Users/ethanyoder/anaconda3/anaconda3/lib/python3.11/site-packages/PyQt5/QtGui.abi3.so\n  Reason: tried: '/Users/ethanyoder/anaconda3/anaconda3/lib/python3.11/site-packages/PyQt5/Qt5/lib/QtGui.framework/Versions/5/QtGui' (no such file), '/Users/ethanyoder/anaconda3/anaconda3/lib/python3.11/site-packages/PyQt5/Qt5/lib/QtGui.framework/Versions/5/QtGui' (no such file), '/Users/ethanyoder/anaconda3/anaconda3/bin/../lib/QtGui.framework/Versions/5/QtGui' (no such file), '/Users/ethanyoder/anaconda3/anaconda3/bin/../lib/QtGui.framework/Versions/5/QtGui' (no such file), '/Library/Frameworks/QtGui.framework/Versions/5/QtGui' (no such file), '/System/Library/Frameworks/QtGui.framework/Versions/5/QtGui' (no such file, not in dyld cache)"
     ]
    }
   ],
   "source": [
    "# Uncomment the following line to display the tree in an interactive window\n",
    "\n",
    "\n",
    "tree.show()\n"
   ]
  },
  {
   "cell_type": "markdown",
   "id": "f7e65a9933fc2530",
   "metadata": {
    "id": "f7e65a9933fc2530"
   },
   "source": [
    "# Part 5: Extending the TreeNode Class\n",
    "\n",
    "Question 5a [1pt].\n",
    "We will now extend the TreeNode class to implement some additional functionality. We will name this new class `ExtendedTreeNode` to distinguish it from the `TreeNode` class we implemented in the previous part of the project.\n",
    "\n",
    "Question 5b [3pt].\n",
    "We will implement a `find_node(name)` method that finds a node in the tree with the given name. If the node is not found, the method should raise a ValueError and print an error message 'Node not found'.\n",
    "\n",
    "Question 5c [4pt].\n",
    "We will implement a `get_common_ancestor()` method that returns the lowest node in the tree that contains both species. For example, the common ancestor of the species 'Human' and 'Chimp' is the node with name '(Human, Chimp)' since they are direct siblings. The common ancestor of the species 'Human' and 'Mouse' is the root node of the tree. If one of the species is not in the tree, the method should raise a ValueError and print an error message 'Node not found'.\n",
    "\n",
    "\n",
    "\n",
    "\n"
   ]
  },
  {
   "cell_type": "code",
   "execution_count": 31,
   "id": "2ee09f8ec8d8dd03",
   "metadata": {
    "ExecuteTime": {
     "end_time": "2023-11-24T14:48:09.073301Z",
     "start_time": "2023-11-24T14:48:09.068665Z"
    },
    "id": "2ee09f8ec8d8dd03"
   },
   "outputs": [],
   "source": [
    "class ExtendedTreeNode(TreeNode):\n",
    "    \n",
    "    #raise NotImplementedError\n",
    "\n",
    "    def find_node(self, name):\n",
    "        \"\"\"\n",
    "        Finds the node with the given name in the tree. If the node is not found, raises a ValueError and prints an error message 'Node not found'.\n",
    "        :param name: (str) name of the node to find, e.g. 'Human'\n",
    "        :return: (TreeNode) node with the given name, if the node is found, otherwise raises a ValueError\n",
    "        \"\"\"\n",
    "\n",
    "        # BASE CASE: Check whether the current node is the desired node- if so, we simply return this node\n",
    "        # YOUR CODE HERE\n",
    "        \n",
    "        if self.name == name:\n",
    "            return self\n",
    "\n",
    "        \n",
    "        #raise NotImplementedError\n",
    "\n",
    "        # BASE CASE: Check whether we are at a leaf and have no further children to search in\n",
    "        # YOUR CODE HERE\n",
    "        \n",
    "        if self.left_child is not None:\n",
    "            try:\n",
    "                return self.left_child.find_node(name)\n",
    "            except ValueError:\n",
    "                pass\n",
    "\n",
    "        if self.right_child is not None:\n",
    "            try:\n",
    "                return self.right_child.find_node(name)\n",
    "            except ValueError:\n",
    "                pass\n",
    "\n",
    "        raise ValueError(\"Node not found\")\n",
    "\n",
    "    def get_common_ancestor(self, name1, name2):\n",
    "        \"\"\"\n",
    "        Returns the common ancestor of two nodes. If one of the nodes is not in the tree, raises a ValueError and prints an error message 'Node not found'.\n",
    "        :param name1: (str) name of the first node\n",
    "        :param name2: (str) name of the second node\n",
    "\n",
    "        :return: (TreeNode) common ancestor of the two nodes, if both species are in the tree, otherwise raises a ValueError\n",
    "        \"\"\"\n",
    "     \n",
    "        node1 = self.find_node(name1)\n",
    "        node2 = self.find_node(name2)\n",
    "        \n",
    "        # Find the lowest common ancestor of the two nodes. We will do this by\n",
    "        # traversing up the tree from node1, and checking if node2 is in the\n",
    "        # subtree rooted at the current node.\n",
    "\n",
    "        current_node = node1\n",
    "        while current_node is not None:\n",
    "            try:\n",
    "                if current_node.find_node(name2):\n",
    "                    return current_node\n",
    "                #raise NotImplementedError\n",
    "\n",
    "            except ValueError:\n",
    "                current_node = current_node.parent\n",
    "\n",
    "        raise ValueError('Node not found')\n",
    "\n",
    "    def get_distance(self, species1, species2):\n",
    "        \"\"\"\n",
    "        Returns the distance between the two species. This is the number of edges between the two species in the tree.\n",
    "        Hint: Use the `get_common_ancestor` function that you wrote in the previous question to compute the distance between the two species\n",
    "        as the sum of the distances from each species to the common ancestor.\n",
    "        :param species1: (str) name of the first species\n",
    "        :param species2: (str) name of the second species\n",
    "        :return: (int) distance between the two species, if both species are in the tree, otherwise raises a ValueError\n",
    "        \"\"\"\n",
    "        ancestor = self.get_common_ancestor(species1, species2)\n",
    "        # Count the number of branches between the ancestor and each species\n",
    "        distance1 = 0\n",
    "        current_node = self.find_node(species1)\n",
    "        while current_node.name != ancestor.name:\n",
    "            distance1 += 1\n",
    "            current_node = current_node.parent\n",
    "\n",
    "        distance2 = 0\n",
    "        current_node = self.find_node(species2)\n",
    "        while current_node != ancestor:\n",
    "            distance2 += 1\n",
    "            current_node = current_node.parent\n",
    "\n",
    "        return distance1 + distance2"
   ]
  },
  {
   "cell_type": "code",
   "execution_count": 32,
   "id": "663b510a7244083e",
   "metadata": {
    "ExecuteTime": {
     "end_time": "2023-11-24T14:48:09.169420Z",
     "start_time": "2023-11-24T14:48:09.163282Z"
    },
    "id": "663b510a7244083e"
   },
   "outputs": [
    {
     "name": "stdout",
     "output_type": "stream",
     "text": [
      "\n",
      "         /-A\n",
      "      /-|\n",
      "     |   \\-B\n",
      "   /-|\n",
      "  |  |   /-C\n",
      "--|   \\-|\n",
      "  |      \\-D\n",
      "  |\n",
      "   \\-E\n"
     ]
    }
   ],
   "source": [
    "# Test the functions you wrote on a toy example of a tree with structure (((A,B),(C,D)),E)\n",
    "\n",
    "A_leaf = ExtendedTreeNode(name='A', sequence=['A','A','A'])\n",
    "B_leaf = ExtendedTreeNode(name='B', sequence=['B','B','B'])\n",
    "C_leaf = ExtendedTreeNode(name='C', sequence=['C','C','C'])\n",
    "D_leaf = ExtendedTreeNode(name='D', sequence=['D','D','D'])\n",
    "E_leaf = ExtendedTreeNode(name='E', sequence=['E','E','E'])\n",
    "\n",
    "AB_internal = ExtendedTreeNode(name='(A,B)', sequence=[])\n",
    "AB_internal.add_left_child(A_leaf)\n",
    "AB_internal.add_right_child(B_leaf)\n",
    "\n",
    "CD_internal = ExtendedTreeNode(name='(C,D)', sequence=[])\n",
    "CD_internal.add_left_child(C_leaf)\n",
    "CD_internal.add_right_child(D_leaf)\n",
    "\n",
    "ABCD_internal = ExtendedTreeNode(name='((A,B),(C,D))', sequence=[])\n",
    "ABCD_internal.add_left_child(AB_internal)\n",
    "ABCD_internal.add_right_child(CD_internal)\n",
    "\n",
    "toy_tree = ExtendedTreeNode(name='(((A,B),(C,D)),E)', sequence=[])\n",
    "toy_tree.add_left_child(ABCD_internal)\n",
    "toy_tree.add_right_child(E_leaf)\n",
    "\n",
    "print(toy_tree.ascii())"
   ]
  },
  {
   "cell_type": "code",
   "execution_count": 33,
   "id": "b968dcf282a416c2",
   "metadata": {
    "ExecuteTime": {
     "end_time": "2023-11-24T14:48:09.252482Z",
     "start_time": "2023-11-24T14:48:09.245156Z"
    },
    "id": "b968dcf282a416c2"
   },
   "outputs": [
    {
     "name": "stdout",
     "output_type": "stream",
     "text": [
      "ValueError raised correctly\n"
     ]
    }
   ],
   "source": [
    "# Check that the find_node() function works correctly\n",
    "assert toy_tree.find_node('A').name == 'A'\n",
    "assert toy_tree.find_node('B').name == 'B'\n",
    "\n",
    "# Check that searching for a node that is not in the tree raises a ValueError\n",
    "try:\n",
    "    toy_tree.find_node('F')\n",
    "except ValueError:\n",
    "    print('ValueError raised correctly')\n",
    "else:\n",
    "    raise AssertionError('Searching for a node that is not in the tree should raise a ValueError')\n"
   ]
  },
  {
   "cell_type": "code",
   "execution_count": 34,
   "id": "8314f819f1721574",
   "metadata": {
    "ExecuteTime": {
     "end_time": "2023-11-24T14:48:09.335506Z",
     "start_time": "2023-11-24T14:48:09.328524Z"
    },
    "id": "8314f819f1721574"
   },
   "outputs": [
    {
     "name": "stdout",
     "output_type": "stream",
     "text": [
      "ValueError raised correctly\n"
     ]
    }
   ],
   "source": [
    "# Test that the get_common_ancestor() function works correctly\n",
    "\n",
    "assert toy_tree.get_common_ancestor('A', 'B').name == '(A,B)'\n",
    "assert toy_tree.get_common_ancestor('A', 'C').name == '((A,B),(C,D))'\n",
    "assert toy_tree.get_common_ancestor('A', '(A,B)').name == '(A,B)'\n",
    "\n",
    "# Check that searching for a common ancestor of two nodes that are not in the tree raises a ValueError\n",
    "try:\n",
    "    toy_tree.get_common_ancestor('A', 'F')\n",
    "except ValueError:\n",
    "    print('ValueError raised correctly')\n",
    "else:\n",
    "    raise AssertionError('Searching for a common ancestor of two nodes that are not in the tree should raise a ValueError')"
   ]
  },
  {
   "cell_type": "code",
   "execution_count": 35,
   "id": "53c2a62888992bd",
   "metadata": {
    "ExecuteTime": {
     "end_time": "2023-11-24T14:48:09.501606Z",
     "start_time": "2023-11-24T14:48:09.495300Z"
    },
    "id": "53c2a62888992bd"
   },
   "outputs": [],
   "source": [
    "# We will recursively convert the tree to an ExtendedTreeNode object\n",
    "def convert_to_ETN(node):\n",
    "    \"\"\"\n",
    "    Recursively converts the tree to an ExtendedTreeNode object.\n",
    "    :param node: (TreeNode) root node of the tree\n",
    "    :return: (ExtendedTreeNode) root node of the tree\n",
    "    \"\"\"\n",
    "    # Base case: If the node is a leaf, return the leaf node\n",
    "    if node.is_leaf():\n",
    "        return ExtendedTreeNode(name=node.name, sequence=node.get_sequence())\n",
    "\n",
    "    # Recursively convert the left and right subtrees\n",
    "    root = ExtendedTreeNode(name=node.name, sequence=[])\n",
    "    if node.left_child is not None:\n",
    "        root.add_left_child(convert_to_ETN(node.left_child))\n",
    "    if node.right_child is not None:\n",
    "        root.add_right_child(convert_to_ETN(node.right_child))\n",
    "\n",
    "\n",
    "    return root\n"
   ]
  },
  {
   "cell_type": "code",
   "execution_count": 36,
   "id": "b028f1f868bd9858",
   "metadata": {
    "ExecuteTime": {
     "end_time": "2023-11-24T14:48:09.591162Z",
     "start_time": "2023-11-24T14:48:09.577959Z"
    },
    "id": "b028f1f868bd9858"
   },
   "outputs": [],
   "source": [
    "extended_tree = convert_to_ETN(tree)"
   ]
  },
  {
   "cell_type": "markdown",
   "id": "be51247cb72d03cd",
   "metadata": {
    "id": "be51247cb72d03cd"
   },
   "source": [
    "Question 5d [1pt].\n",
    "\n",
    "Print both the original tree and the extended tree using the `ascii()` method of the root node. Visually compare the two trees to make sure that they are the same. Observe that we can use the .ascii() method on the extended tree even though we did not implement it in the ExtendedTreeNode class. Why is this?\n"
   ]
  },
  {
   "cell_type": "code",
   "execution_count": 37,
   "id": "95082e9d",
   "metadata": {},
   "outputs": [
    {
     "name": "stdout",
     "output_type": "stream",
     "text": [
      "Original Tree:\n",
      "\n",
      "   /-Mouse\n",
      "  |\n",
      "--|      /-Tarsier\n",
      "  |   /-|\n",
      "  |  |   \\-Lemur\n",
      "   \\-|\n",
      "     |   /-Bovine\n",
      "     |  |\n",
      "      \\-|   /-Squir Monk\n",
      "        |  |\n",
      "        |  |      /-BarbMacaq\n",
      "         \\-|   /-|\n",
      "           |  |  |   /-Crab Eating Macaq\n",
      "           |  |   \\-|\n",
      "           |  |     |   /-Jpn Macaq\n",
      "            \\-|      \\-|\n",
      "              |         \\-Rhesus Mac\n",
      "              |\n",
      "              |   /-Gibbon\n",
      "               \\-|\n",
      "                 |   /-Orang\n",
      "                  \\-|\n",
      "                    |   /-Gorilla\n",
      "                     \\-|\n",
      "                       |   /-Chimp\n",
      "                        \\-|\n",
      "                           \\-Human\n",
      "\n",
      "Extended Tree:\n",
      "\n",
      "   /-Mouse\n",
      "  |\n",
      "--|      /-Tarsier\n",
      "  |   /-|\n",
      "  |  |   \\-Lemur\n",
      "   \\-|\n",
      "     |   /-Bovine\n",
      "     |  |\n",
      "      \\-|   /-Squir Monk\n",
      "        |  |\n",
      "        |  |      /-BarbMacaq\n",
      "         \\-|   /-|\n",
      "           |  |  |   /-Crab Eating Macaq\n",
      "           |  |   \\-|\n",
      "           |  |     |   /-Jpn Macaq\n",
      "            \\-|      \\-|\n",
      "              |         \\-Rhesus Mac\n",
      "              |\n",
      "              |   /-Gibbon\n",
      "               \\-|\n",
      "                 |   /-Orang\n",
      "                  \\-|\n",
      "                    |   /-Gorilla\n",
      "                     \\-|\n",
      "                       |   /-Chimp\n",
      "                        \\-|\n",
      "                           \\-Human\n"
     ]
    }
   ],
   "source": [
    "print(\"Original Tree:\")\n",
    "print(tree.ascii())\n",
    "\n",
    "print(\"\\nExtended Tree:\")\n",
    "print(extended_tree.ascii())"
   ]
  },
  {
   "cell_type": "markdown",
   "id": "7cd6274035d9f8e1",
   "metadata": {
    "id": "7cd6274035d9f8e1"
   },
   "source": [
    "Answer: We can us the .ascii method on the ExtendedTreeNode class because it's a subclass of TreeNode"
   ]
  },
  {
   "cell_type": "markdown",
   "id": "331f98483632692c",
   "metadata": {
    "id": "331f98483632692c"
   },
   "source": [
    " Question 5e [1pt].\n",
    " Use the `get_distance()` method of the extended tree to compute and print the distance between the species:\n",
    "  1. 'Human' and 'Chimp'.\n",
    "  2. 'Human' and 'Mouse'.\n",
    "  3. 'Human' and 'Gorilla'.\n",
    "\n",
    "Do these distances make sense? Can you explain why the distance between 'Human' and 'Mouse' is so much larger than the distance between 'Human' and 'Chimp'?\n"
   ]
  },
  {
   "cell_type": "code",
   "execution_count": 38,
   "id": "9503bf31",
   "metadata": {},
   "outputs": [],
   "source": [
    "distance_human_chimp = extended_tree.get_distance('Human', 'Chimp')\n",
    "distance_human_mouse = extended_tree.get_distance('Human', 'Mouse')\n",
    "distance_human_gorilla = extended_tree.get_distance('Human', 'Gorilla')"
   ]
  },
  {
   "cell_type": "code",
   "execution_count": 39,
   "id": "62320dec7e589807",
   "metadata": {
    "ExecuteTime": {
     "end_time": "2023-11-24T14:48:09.995576Z",
     "start_time": "2023-11-24T14:48:09.983029Z"
    },
    "id": "62320dec7e589807"
   },
   "outputs": [
    {
     "name": "stdout",
     "output_type": "stream",
     "text": [
      "The distance between Human and Chimp is 2\n",
      "The distance between Human and Mouse is 10\n",
      "The distance between Human and Gorilla is 3\n"
     ]
    }
   ],
   "source": [
    "print(f'The distance between Human and Chimp is {distance_human_chimp}')\n",
    "print(f'The distance between Human and Mouse is {distance_human_mouse}')\n",
    "print(f'The distance between Human and Gorilla is {distance_human_gorilla}')"
   ]
  },
  {
   "cell_type": "markdown",
   "id": "54037c2c062e3b5a",
   "metadata": {
    "id": "54037c2c062e3b5a"
   },
   "source": [
    "Answer: Yes, the distances make sense, based on the phylogenetic tree. The distance between Human and Mouse is much\n",
    "larger than the distance between human and chimps because humans and mice diverged much earlier on the tree,\n",
    "meaning they had a much less recent common ancestor."
   ]
  },
  {
   "cell_type": "markdown",
   "id": "b6c461dedf3334a4",
   "metadata": {
    "id": "b6c461dedf3334a4"
   },
   "source": [
    "# Part 6: Embedding using sklearn\n",
    "\n",
    "Embedding is a technique used to represent high-dimensional data in a lower-dimensional space. In biology, we are often confronted with data that exists in very high dimensions, which we cannot easily interpret simply by plotting it. In this part of the project, we will use the sklearn package to embed the genomic data into a 2-dimensional space. We will then visualize the embedded data using a scatterplot.\n",
    "\n",
    "We will use t-SNE on the precomputed distance matrix to embed the data into a 2-dimensional space. We will then visualize the embedded data using a scatterplot. We will color the points in the scatterplot based on the species. We will also label each point with the name of the species.\n"
   ]
  },
  {
   "cell_type": "code",
   "execution_count": 47,
   "id": "7ef86ff97eb336e",
   "metadata": {
    "ExecuteTime": {
     "end_time": "2023-11-24T14:48:11.225529Z",
     "start_time": "2023-11-24T14:48:10.233370Z"
    },
    "id": "7ef86ff97eb336e"
   },
   "outputs": [
    {
     "data": {
      "text/html": [
       "<div>\n",
       "<style scoped>\n",
       "    .dataframe tbody tr th:only-of-type {\n",
       "        vertical-align: middle;\n",
       "    }\n",
       "\n",
       "    .dataframe tbody tr th {\n",
       "        vertical-align: top;\n",
       "    }\n",
       "\n",
       "    .dataframe thead th {\n",
       "        text-align: right;\n",
       "    }\n",
       "</style>\n",
       "<table border=\"1\" class=\"dataframe\">\n",
       "  <thead>\n",
       "    <tr style=\"text-align: right;\">\n",
       "      <th></th>\n",
       "      <th>0</th>\n",
       "      <th>1</th>\n",
       "    </tr>\n",
       "  </thead>\n",
       "  <tbody>\n",
       "    <tr>\n",
       "      <th>Tarsier</th>\n",
       "      <td>-11.614235</td>\n",
       "      <td>31.594088</td>\n",
       "    </tr>\n",
       "    <tr>\n",
       "      <th>Gorilla</th>\n",
       "      <td>2.300042</td>\n",
       "      <td>-16.031607</td>\n",
       "    </tr>\n",
       "    <tr>\n",
       "      <th>Jpn Macaq</th>\n",
       "      <td>-52.467209</td>\n",
       "      <td>-15.441114</td>\n",
       "    </tr>\n",
       "    <tr>\n",
       "      <th>Orang</th>\n",
       "      <td>1.948274</td>\n",
       "      <td>-3.780018</td>\n",
       "    </tr>\n",
       "    <tr>\n",
       "      <th>Rhesus Mac</th>\n",
       "      <td>-48.185833</td>\n",
       "      <td>-7.497933</td>\n",
       "    </tr>\n",
       "  </tbody>\n",
       "</table>\n",
       "</div>"
      ],
      "text/plain": [
       "                    0          1\n",
       "Tarsier    -11.614235  31.594088\n",
       "Gorilla      2.300042 -16.031607\n",
       "Jpn Macaq  -52.467209 -15.441114\n",
       "Orang        1.948274  -3.780018\n",
       "Rhesus Mac -48.185833  -7.497933"
      ]
     },
     "execution_count": 47,
     "metadata": {},
     "output_type": "execute_result"
    }
   ],
   "source": [
    "from sklearn.manifold import TSNE\n",
    "import matplotlib.pyplot as plt\n",
    "\n",
    "model = TSNE(n_components=2, metric='precomputed', perplexity=5, init='random')\n",
    "embedded_data = model.fit_transform(distance_matrix)\n",
    "embedded_data = pd.DataFrame(embedded_data)\n",
    "embedded_data.index = distance_matrix.index\n",
    "embedded_data.head()"
   ]
  },
  {
   "cell_type": "code",
   "execution_count": 48,
   "id": "bf8eb8feaf105f7a",
   "metadata": {
    "ExecuteTime": {
     "end_time": "2023-11-24T14:48:11.321850Z",
     "start_time": "2023-11-24T14:48:11.239265Z"
    },
    "id": "bf8eb8feaf105f7a"
   },
   "outputs": [
    {
     "data": {
      "image/png": "[encoded data removed]",
      "text/plain": [
       "<Figure size 640x480 with 1 Axes>"
      ]
     },
     "metadata": {},
     "output_type": "display_data"
    }
   ],
   "source": [
    "# Plot a scatterplot of the embedded data, labelling each point with the species.\n",
    "plt.figure()\n",
    "plt.scatter(embedded_data[0], embedded_data[1])\n",
    "# Annotation\n",
    "for i, txt in enumerate(embedded_data.index):\n",
    "    plt.annotate(txt, (embedded_data[0][i], embedded_data[1][i]))\n",
    "plt.show()"
   ]
  },
  {
   "cell_type": "markdown",
   "id": "a90192a3343b1cd9",
   "metadata": {
    "id": "a90192a3343b1cd9"
   },
   "source": [
    "Question 6a [2pt].\n",
    "\n",
    "The embedding allows us to visualize the high dimensional sequencing data while trying to preserve as much structure in the data. However, whenever we embed data from high dimension into low dimension, we run the risk of losing some information. Are there any species that appear to be clustered together in the embedding that are not closely related? Use your `get_distance()` method to compute the distance between these species and compare it the visual distance between the species in the embedding. Do you see any species that appear to be clustered together in the embedding that are not closely related? If so, which species are they?\n",
    "\n",
    "Note that tSNE will converge to a different solution each time you run it, so the relative positions of the points may change each time you run the code. You may need to run the code a few times to find the species that appear to be clustered together in the embedding but are not closely related. Just make sure to submit the notebook with the plot that you used to answer this question.\n",
    "\n"
   ]
  },
  {
   "cell_type": "markdown",
   "id": "846aa5deba8e8843",
   "metadata": {
    "id": "846aa5deba8e8843"
   },
   "source": [
    "Answer: While the graph does cluster related species together, it has obvious flaws. The mouse appears significantly closer to the bovine than it does to the lemur or tarsier, despite being similarly related."
   ]
  },
  {
   "cell_type": "code",
   "execution_count": 63,
   "id": "b1157b8485b582bc",
   "metadata": {
    "ExecuteTime": {
     "end_time": "2023-11-24T14:48:11.322153Z",
     "start_time": "2023-11-24T14:48:11.317075Z"
    },
    "id": "b1157b8485b582bc"
   },
   "outputs": [
    {
     "name": "stdout",
     "output_type": "stream",
     "text": [
      "4\n",
      "4\n",
      "3\n",
      "4\n",
      "3\n",
      "3\n",
      "6\n",
      "3\n",
      "4\n",
      "2\n",
      "2\n"
     ]
    }
   ],
   "source": [
    "# Print out the true tree distance between the species that appear to be clustered together in the embedding\n",
    "\n",
    "print(extended_tree.get_distance(\"Mouse\", \"Bovine\"))\n",
    "print(extended_tree.get_distance(\"Mouse\", \"Tarsier\"))\n",
    "\n",
    "print(extended_tree.get_distance(\"Gorilla\", \"Orang\"))\n",
    "print(extended_tree.get_distance(\"Gorilla\", \"Gibbon\"))\n",
    "print(extended_tree.get_distance(\"Gorilla\", \"Chimp\"))\n",
    "print(extended_tree.get_distance(\"Gorilla\", \"Human\"))\n",
    "print(extended_tree.get_distance(\"Gorilla\", \"Squir Monk\"))\n",
    "\n",
    "print(extended_tree.get_distance(\"Jpn Macaq\", \"Crab Eating Macaq\"))\n",
    "print(extended_tree.get_distance(\"Jpn Macaq\", \"BarbMacaq\"))\n",
    "print(extended_tree.get_distance(\"Jpn Macaq\", \"Rhesus Mac\"))\n",
    "\n",
    "print(extended_tree.get_distance(\"Tarsier\", \"Lemur\"))\n",
    "\n",
    "\n",
    "\n",
    "\n",
    "\n",
    "\n",
    "    \n",
    "#raise NotImplementedError"
   ]
  }
 ],
 "metadata": {
  "colab": {
   "provenance": []
  },
  "kernelspec": {
   "display_name": "Python 3 (ipykernel)",
   "language": "python",
   "name": "python3"
  },
  "language_info": {
   "codemirror_mode": {
    "name": "ipython",
    "version": 3
   },
   "file_extension": ".py",
   "mimetype": "text/x-python",
   "name": "python",
   "nbconvert_exporter": "python",
   "pygments_lexer": "ipython3",
   "version": "3.11.4"
  }
 },
 "nbformat": 4,
 "nbformat_minor": 5
}
