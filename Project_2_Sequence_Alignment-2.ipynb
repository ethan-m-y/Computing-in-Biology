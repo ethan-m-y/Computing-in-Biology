{
 "cells": [
  {
   "cell_type": "markdown",
   "metadata": {},
   "source": [
    "Ethan Yoder"
   ]
  },
  {
   "cell_type": "code",
   "execution_count": 1,
   "metadata": {
    "id": "FDvXjfKN_Vps"
   },
   "outputs": [],
   "source": [
    "# Import packages\n",
    "\n",
    "import numpy as np\n",
    "import seaborn as sns\n",
    "import matplotlib.pyplot as plt\n",
    "%matplotlib inline"
   ]
  },
  {
   "cell_type": "code",
   "execution_count": 4,
   "metadata": {
    "id": "GPKDpmuTpvPw"
   },
   "outputs": [],
   "source": [
    "# Useful plotting functions to use later\n",
    "\n",
    "import seaborn as sns\n",
    "import matplotlib.pyplot as plt\n",
    "%matplotlib inline\n",
    "\n",
    "def hits_on_diagonal(hits):\n",
    "    \"\"\"Picks out which hits lie roughly along the diagonal\"\"\"\n",
    "\n",
    "    slope1 = 1.0e6 / (825000 - 48000)\n",
    "    slope2 = 1.0e6 / (914000 - 141000)\n",
    "    offset1 = 0 - slope1*48000\n",
    "    offset2 = 0 - slope2*141000\n",
    "\n",
    "    goodhits = []\n",
    "\n",
    "    for hit in hits:\n",
    "        upper = slope1 * hit[0] + offset1\n",
    "        lower = slope2 * hit[0] + offset2\n",
    "\n",
    "        if lower < hit[1] < upper:\n",
    "            goodhits.append(hit)\n",
    "\n",
    "    return goodhits\n",
    "\n",
    "def plot_hits(hits):\n",
    "  ## This helps to draw the diagonal line and\n",
    "  ## highlight the region around it.\n",
    "  ## Feel free to change the aesthetics of the plot!\n",
    "    if len(hits)==0:\n",
    "        print('No hits found!')\n",
    "        return\n",
    "        sns.set('paper')\n",
    "        sns.set_style('whitegrid')\n",
    "\n",
    "    plt.figure()\n",
    "\n",
    "    slope1 = 1.0e6 / (825000 - 48000)\n",
    "    slope2 = 1.0e6 / (914000 - 141000)\n",
    "    offset1 = 0 - slope1*48000\n",
    "    offset2 = 0 - slope2*141000\n",
    "\n",
    "    x = np.linspace(0,1e6,int(1e5))\n",
    "    plt.plot(x, slope1*x+offset1, 'b-')\n",
    "    plt.plot(x, slope2*x+offset2, 'b-')\n",
    "    plt.xlim(0, 1e6)\n",
    "    plt.ylim(0, 1e6)\n",
    "\n",
    "    hits = np.array(hits)\n",
    "    x = hits[:,0]\n",
    "    y = hits[:,1]\n",
    "    pos = np.arange(hits.max())\n",
    "    plt.scatter(x,y, s=1,c='grey',marker='x')\n",
    "\n",
    "  # plt.ylabel('Sequence 1')\n",
    "  # plt.xlabel('Sequence 2')\n",
    "\n",
    "    hits2 = hits_on_diagonal(hits)\n",
    "    plt.title(f\"{len(hits)} hits, {100*len(hits2)/len(hits):0.2f} on diagonal)\")\n",
    "\n",
    "    plt.show()\n",
    "    return None\n"
   ]
  },
  {
   "cell_type": "markdown",
   "metadata": {
    "id": "0fveRkU__ZrA"
   },
   "source": [
    "# Sequence Alignment\n",
    "\n",
    "Sequence alignment is a fundamental concept in bioinformatics and molecular biology. It involves the comparison of genetic sequences to identify similarities, differences, and evolutionary relationships between DNA, RNA, or protein sequences.\n",
    "\n",
    "In the context of read mapping, which is crucial in fields like genomics and molecular biology, sequence alignment is used to align short DNA sequences (reads) obtained from high-throughput sequencing techniques (like next-generation sequencing) to a reference genome or another sequence. This process helps identify where these short reads belong in the context of the larger reference sequence, allowing researchers to understand the structure, function, and variations in the genetic material.\n",
    "\n",
    "One interesting application of sequence alignment is the comparison of two reference sequences to perform **comparative genomics**. Alignment allows the comparison of genomes across species to study evolutionary relationships and genetic similarities.\n",
    "\n",
    "\n",
    "In Lecture 6, we started looking at the algorithmic problem of sequence alignment in the context of read mapping.\n",
    "\n",
    "\n",
    " We began to realise that figuring out the best way to align two sequences is a challenging problem, and requires some more advanced algorithmic approaches.\n",
    "\n",
    "![image.png](https://miro.medium.com/max/1400/1*MvF9NUzn54va1_TO8RMLoA.png)\n",
    "\n",
    "[Image reference](https://miro.medium.com/max/1400/1*MvF9NUzn54va1_TO8RMLoA.png)\n",
    "\n",
    "If you are interested, the Needleman–Wunsch algorithm is used in bioinformatics to align protein or nucleotide sequences using dynamic programming. You can check out the [Wikipedia page](https://en.wikipedia.org/wiki/Needleman%E2%80%93Wunsch_algorithm) for an overview of how it works!\n",
    "\n",
    "Still, sequence alignment is a quadratic time algorithm - meaning that it takes on the order of $n^2$ operations to align a sequence of length $n$. Full sequence alignment is therefore only possible for sequence about the length of the average gene - certainly not for comparing two genomes!\n",
    "\n",
    "## K-mer Hashing\n",
    "\n",
    "In this project, we will explore the use of **k-mer hashing** as a heuristic for aligning large regions. K-mers are substrings of length k within DNA sequences. The process involves breaking longer sequences into shorter k-mers and creating a hash table to efficiently store and compare these k-mers.\n",
    "\n",
    "\n",
    "Hashing is the process of transforming any given key or a string of characters into another shorter, fixed-length value or key which is easier to find. Keys in a dictionary are hashed to make looking up items in a dictionary very quick!\n",
    "\n",
    "\n",
    "By comparing the presence, absence, or frequency of k-mers across genomes, we can determine shared genetic material or specific variations between organisms.\n",
    "\n",
    "## Evolutionary Conservation of HoxA Cluster\n",
    "\n",
    "In this project, you will use hashing techniques to\n",
    "guide the alignment of a 1 megabase (1 million nucleotides) region surrounding the HoxA cluster in human\n",
    "(provided as a FASTA file human-hoxa-region.fa) and mouse (provided as a FASTA file mouse-hoxa-region.fa). The Hox genes are a highly conserved group of genes that play a crucial role in the embryonic development of many animals, including humans and mice. These genes are involved in controlling the body plan and are responsible for the anterior-posterior (head-to-tail) patterning of an organism during early development. They play a role in determining where specific body structures will develop and the timing of their development.\n",
    "\n",
    "\n",
    "This assignment is adapted from a Problem Set from MIT's 6.047 ([Computational Biology](https://ocw.mit.edu/courses/6-047-computational-biology-fall-2015/)) course.\n"
   ]
  },
  {
   "cell_type": "markdown",
   "metadata": {
    "id": "R5OPrvflDEJz"
   },
   "source": [
    "1. (5 points) First thing first, we want to write a function to read in a FASTA file, and return the sequence contained therein. Remember to ignore any lines that correspond to comments, and remove any special characters from the sequence!\n",
    "\n",
    "Load the file `'mouse-hoxa-region.fa'` and save it as the variable `seq1`. Load the file `human-hoxa-region.fa` and save it as the variable `seq2`.\n"
   ]
  },
  {
   "cell_type": "code",
   "execution_count": 24,
   "metadata": {
    "id": "BIYqn6F1DEex"
   },
   "outputs": [],
   "source": [
    "def read_fasta(filename):\n",
    "    \n",
    "    \"\"\"\n",
    "  Reads in the path to a FASTA file, and returns the sequence contained therein.\n",
    "  Comment lines are removed.\n",
    "\n",
    "  @param: (str) filename - path to FASTA file\n",
    "  @return: (str) sequence contained in fasta file\n",
    "    \"\"\"\n",
    "    \n",
    "    sequence = \"\"\n",
    "    \n",
    "    with open (filename, 'r') as f:\n",
    "        \n",
    "        for line in f:\n",
    "            \n",
    "            if line.startswith('>') or line.startswith(';'):\n",
    "                continue\n",
    "            \n",
    "            sequence += line.rstrip('\\n')\n",
    "\n",
    "    return sequence"
   ]
  },
  {
   "cell_type": "code",
   "execution_count": 25,
   "metadata": {
    "id": "dVhv2ahMDEhv"
   },
   "outputs": [],
   "source": [
    "path_to_data = r'/Users/ethanyoder/Downloads/'\n",
    "\n",
    "seq2 = read_fasta(path_to_data+'human-hoxa-region.fa')\n",
    "seq1 = read_fasta(path_to_data+'mouse-hoxa-region.fa')"
   ]
  },
  {
   "cell_type": "code",
   "execution_count": 26,
   "metadata": {
    "id": "QOEc5jLsbds7"
   },
   "outputs": [
    {
     "data": {
      "text/plain": [
       "'AAGTAAAGATCATGGTTCTAAAAACTGAAATTTACCACTGAAATTCATATGGGTTCTATTGGACTTTAATCCTGTGTTTGTCAGGCAGCACTGAAAACCC'"
      ]
     },
     "execution_count": 26,
     "metadata": {},
     "output_type": "execute_result"
    }
   ],
   "source": [
    "# Print first 1000 characters\n",
    "seq1[:100]"
   ]
  },
  {
   "cell_type": "code",
   "execution_count": 27,
   "metadata": {
    "id": "I7MT4D2Jbdyd"
   },
   "outputs": [
    {
     "data": {
      "text/plain": [
       "'CTAACACCAAACAGAGAACTAGTTTTCACCAATTAAAGAGCAGTTTGATTATACGCCATGTAAAATGCTAATGCAGAAATGAACAATAGCTATTTCTCATTTAAATTTAGTCATCTGGAATGCTTCAAGTAGATAACATTAATGCAAGATGATACAATGCATCCAGATATTGGCAGTAGATTGATTTAAGTAGACATAAATGATCTTTAAAAAATCAGCAACCTTCAGAAGCTGCTTACATCACTTTTGCTTTATTTATGTAATGTAGTCACACATTAATTAGCAATACTGTACAAGAATAGAAAATCATAATTTAGGCCAGGCATGGTGGCTTACGCCTGAAATCCCAGCACTTTGGGAGGCCAAGGCAGGCAGATCACTTGAGGTGAGGAGTTTGAGACCAGCCTGGCCAATATGGCGAAACCCCATCTCTACTAAAAATACAAAAAAATTAGCTGGGTGTGGTGGCACGTGCCTGTAGTCCCAGCTTCTAGGGAGGCTGAGGCATGAGAATCGCTTGAACCGGGGAAACAGAGGTTGCAGTGAGCAAAGATTGTGCCAGTGCACTCCAGCTAGGCAACAGAGGGAGACTGTCTCAAAAAAGAAGAAAGGAAAGAAAGAAAGGAAAGAAAGAAAGAGAAAGAAAGAAAATCATAATTTAACATATCTTTATCTTAGCCATCTATTCCTTGACCCACAAGGTCAAGCTTATGTCAGGACTAAATATCAATATAAACATTCAATTGCCCTCCTTTTTAAAAAGAACTCAACTGTTATTGTTGCAAGCTTAATTAAATACAAATTATTTAATTTGATTTAATAAACAGAAAATTATTCCAAAGAAGTGTACTTGGTATTTAGGGATGTGTTTTTTAAAAATTTAGAGCAAGACACAATTGAAAAGTTTGCAAGTAATGTCGATAATGGTGAAAAATCAGATACAACCTGATTTTTGTAAATAAAAATTAAGGTTTGCTTAAATATTTTTTTCACTTGGTAT'"
      ]
     },
     "execution_count": 27,
     "metadata": {},
     "output_type": "execute_result"
    }
   ],
   "source": [
    "# Print first 1000 characters\n",
    "seq2[:1000]"
   ]
  },
  {
   "cell_type": "markdown",
   "metadata": {
    "id": "ZVZ7F-iHSzwE"
   },
   "source": [
    "We now wish to heuristically align our two sequences. We do this by storing all k-mers in the first string and performing a pairwise comparison with k-mers in the second string. The location of all k-mers that match are stored as a hit.\n",
    "\n",
    "Clustered locations of 'hits' correspond to regions where there two sequences are quite similar. We store hits\n",
    "\n",
    "\n",
    "2. (5 points). Write a function `collect_hits(seq1, seq2, kmerlen)` that iterates over both sequences and stores the indices of k-mers which are 'hits', as a list of tuples. Each tuple contains `(index1, index2)` where `index1` is the location of the k-mer in `seq1` and `index2` is the location of the k-mer in `seq2`.\n",
    "\n",
    "For example, considering k-mers of length three, if we were to compare the following sequences:\n",
    "\n",
    "ATTCGATGCT and GATGCTATATTCTAT, we would observe hits at `[(0,8), (1,9), (4,0), (5,1), (6,2), (7,3)]`, (corresponding to 3-mers 'ATT', 'TTC', 'GAT','ATG', 'TGC' and 'GCT'. This leads us to two regions where the sequences share similarity -\n",
    "* **ATTC**GATGCT/GATGCTAT**ATTC**TAT\n",
    "*  ATTC**GATGCT**/**GATGCT**ATATTCTAT\n"
   ]
  },
  {
   "cell_type": "code",
   "execution_count": 45,
   "metadata": {
    "id": "5_wJCzAAWSVb"
   },
   "outputs": [],
   "source": [
    "def collect_hits(seq1, seq2, kmerlen=30):\n",
    "    \"\"\"\n",
    "  Find all positions on (seq1, seq2) where there is a matching k-mer.\n",
    "\n",
    "  For example, if we consider an exact match rule with a k- mer length f 4:\n",
    "   seq1[10] = 'AATC' and seq2[50] = 'AATC'\n",
    "  would register a hit at position (10,50).\n",
    "\n",
    "  @param: (str) seq1 representing sequence 1 to be aligned\n",
    "  @param: (str) seq2 representing sequence 2 to be aligned\n",
    "  @param: (int) kmerlen representing the length of k-mers to be hashed\n",
    "\n",
    "  @ return: (list of tuples) where each entry on the list is a tuple of integers\n",
    "            ([p1, p2]), at 'matching' where positions p1 represents the position\n",
    "            on seq1 and p2 represents the position on seq2\n",
    "  \"\"\"\n",
    "  # List of hit positions\n",
    "    hits = []\n",
    "\n",
    "  # Dictionary to store hashes of positions where k-mers are located\n",
    "    lookup = {}\n",
    "\n",
    "    print('Hashing sequence 1...')\n",
    "    \n",
    "    for pos1 in range(len(seq1) - kmerlen + 1):\n",
    "\n",
    "    # Find the kmer in seq1 to hash\n",
    "    # YOUR CODE HERE\n",
    "        \n",
    "        kmer = seq1[pos1:pos1 + kmerlen]\n",
    "    # Store position of kmer under the hash of kmer (as a key in a dictionary)\n",
    "        lookup.setdefault(kmer, []).append(pos1)\n",
    "\n",
    "    print('Hashing sequence 2...')\n",
    "    \n",
    "    for pos2 in range(len(seq2) - kmerlen + 1):\n",
    "     \n",
    "    # Find the correct k-mer in sequence 2\n",
    "    # YOUR CODE HERE\n",
    "        kmer = seq2[pos2:pos2 + kmerlen]\n",
    "        if kmer in lookup:\n",
    "            for pos1 in lookup[kmer]:\n",
    "                hits.append((pos1, pos2))\n",
    "                \n",
    "    # Lookup kmer locations in the lookup table\n",
    "    # Store the positions of hits (where both seq1 and seq2 contain the same k-mer)\n",
    "\n",
    "\n",
    "    return hits\n",
    "\n",
    "\n"
   ]
  },
  {
   "cell_type": "code",
   "execution_count": 46,
   "metadata": {},
   "outputs": [
    {
     "name": "stdout",
     "output_type": "stream",
     "text": [
      "Hashing sequence 1...\n",
      "Hashing sequence 2...\n"
     ]
    },
    {
     "data": {
      "text/plain": [
       "[(93072, 6345),\n",
       " (93073, 6346),\n",
       " (93074, 6347),\n",
       " (305239, 8480),\n",
       " (305240, 8481),\n",
       " (312355, 8481),\n",
       " (20797, 8482),\n",
       " (20801, 8482),\n",
       " (20805, 8482),\n",
       " (20809, 8482),\n",
       " (20813, 8482),\n",
       " (20817, 8482),\n",
       " (20821, 8482),\n",
       " (20825, 8482),\n",
       " (107602, 8482),\n",
       " (107606, 8482),\n",
       " (107610, 8482),\n",
       " (107614, 8482),\n",
       " (107618, 8482),\n",
       " (107622, 8482),\n",
       " (219357, 8482),\n",
       " (219361, 8482),\n",
       " (219365, 8482),\n",
       " (219369, 8482),\n",
       " (219373, 8482),\n",
       " (219377, 8482),\n",
       " (219381, 8482),\n",
       " (219385, 8482),\n",
       " (219389, 8482),\n",
       " (227721, 8482),\n",
       " (227725, 8482),\n",
       " (227729, 8482),\n",
       " (305241, 8482),\n",
       " (305245, 8482),\n",
       " (305249, 8482),\n",
       " (305253, 8482),\n",
       " (312356, 8482),\n",
       " (312360, 8482),\n",
       " (312364, 8482),\n",
       " (312368, 8482),\n",
       " (312372, 8482),\n",
       " (312376, 8482),\n",
       " (312380, 8482),\n",
       " (312384, 8482),\n",
       " (694064, 8482),\n",
       " (694068, 8482),\n",
       " (694072, 8482),\n",
       " (694076, 8482),\n",
       " (694080, 8482),\n",
       " (694084, 8482),\n",
       " (694088, 8482),\n",
       " (712929, 8482),\n",
       " (712933, 8482),\n",
       " (712937, 8482),\n",
       " (712941, 8482),\n",
       " (712945, 8482),\n",
       " (712949, 8482),\n",
       " (20798, 8483),\n",
       " (20802, 8483),\n",
       " (20806, 8483),\n",
       " (20810, 8483),\n",
       " (20814, 8483),\n",
       " (20818, 8483),\n",
       " (20822, 8483),\n",
       " (20826, 8483),\n",
       " (107603, 8483),\n",
       " (107607, 8483),\n",
       " (107611, 8483),\n",
       " (107615, 8483),\n",
       " (107619, 8483),\n",
       " (107623, 8483),\n",
       " (219358, 8483),\n",
       " (219362, 8483),\n",
       " (219366, 8483),\n",
       " (219370, 8483),\n",
       " (219374, 8483),\n",
       " (219378, 8483),\n",
       " (219382, 8483),\n",
       " (219386, 8483),\n",
       " (219390, 8483),\n",
       " (227722, 8483),\n",
       " (227726, 8483),\n",
       " (227730, 8483),\n",
       " (305242, 8483),\n",
       " (305246, 8483),\n",
       " (305250, 8483),\n",
       " (312357, 8483),\n",
       " (312361, 8483),\n",
       " (312365, 8483),\n",
       " (312369, 8483),\n",
       " (312373, 8483),\n",
       " (312377, 8483),\n",
       " (312381, 8483),\n",
       " (312385, 8483),\n",
       " (694061, 8483),\n",
       " (694065, 8483),\n",
       " (694069, 8483),\n",
       " (694073, 8483),\n",
       " (694077, 8483),\n",
       " (694081, 8483),\n",
       " (694085, 8483),\n",
       " (694089, 8483),\n",
       " (712926, 8483),\n",
       " (712930, 8483),\n",
       " (712934, 8483),\n",
       " (712938, 8483),\n",
       " (712942, 8483),\n",
       " (712946, 8483),\n",
       " (20799, 8484),\n",
       " (20803, 8484),\n",
       " (20807, 8484),\n",
       " (20811, 8484),\n",
       " (20815, 8484),\n",
       " (20819, 8484),\n",
       " (20823, 8484),\n",
       " (20827, 8484),\n",
       " (107600, 8484),\n",
       " (107604, 8484),\n",
       " (107608, 8484),\n",
       " (107612, 8484),\n",
       " (107616, 8484),\n",
       " (107620, 8484),\n",
       " (219355, 8484),\n",
       " (219359, 8484),\n",
       " (219363, 8484),\n",
       " (219367, 8484),\n",
       " (219371, 8484),\n",
       " (219375, 8484),\n",
       " (219379, 8484),\n",
       " (219383, 8484),\n",
       " (219387, 8484),\n",
       " (219391, 8484),\n",
       " (227723, 8484),\n",
       " (227727, 8484),\n",
       " (227731, 8484),\n",
       " (305243, 8484),\n",
       " (305247, 8484),\n",
       " (305251, 8484),\n",
       " (312358, 8484),\n",
       " (312362, 8484),\n",
       " (312366, 8484),\n",
       " (312370, 8484),\n",
       " (312374, 8484),\n",
       " (312378, 8484),\n",
       " (312382, 8484),\n",
       " (312386, 8484),\n",
       " (694062, 8484),\n",
       " (694066, 8484),\n",
       " (694070, 8484),\n",
       " (694074, 8484),\n",
       " (694078, 8484),\n",
       " (694082, 8484),\n",
       " (694086, 8484),\n",
       " (712927, 8484),\n",
       " (712931, 8484),\n",
       " (712935, 8484),\n",
       " (712939, 8484),\n",
       " (712943, 8484),\n",
       " (712947, 8484),\n",
       " (20796, 8485),\n",
       " (20800, 8485),\n",
       " (20804, 8485),\n",
       " (20808, 8485),\n",
       " (20812, 8485),\n",
       " (20816, 8485),\n",
       " (20820, 8485),\n",
       " (20824, 8485),\n",
       " (107601, 8485),\n",
       " (107605, 8485),\n",
       " (107609, 8485),\n",
       " (107613, 8485),\n",
       " (107617, 8485),\n",
       " (107621, 8485),\n",
       " (219356, 8485),\n",
       " (219360, 8485),\n",
       " (219364, 8485),\n",
       " (219368, 8485),\n",
       " (219372, 8485),\n",
       " (219376, 8485),\n",
       " (219380, 8485),\n",
       " (219384, 8485),\n",
       " (219388, 8485),\n",
       " (219392, 8485),\n",
       " (227720, 8485),\n",
       " (227724, 8485),\n",
       " (227728, 8485),\n",
       " (227732, 8485),\n",
       " (305244, 8485),\n",
       " (305248, 8485),\n",
       " (305252, 8485),\n",
       " (312359, 8485),\n",
       " (312363, 8485),\n",
       " (312367, 8485),\n",
       " (312371, 8485),\n",
       " (312375, 8485),\n",
       " (312379, 8485),\n",
       " (312383, 8485),\n",
       " (312387, 8485),\n",
       " (694063, 8485),\n",
       " (694067, 8485),\n",
       " (694071, 8485),\n",
       " (694075, 8485),\n",
       " (694079, 8485),\n",
       " (694083, 8485),\n",
       " (694087, 8485),\n",
       " (712928, 8485),\n",
       " (712932, 8485),\n",
       " (712936, 8485),\n",
       " (712940, 8485),\n",
       " (712944, 8485),\n",
       " (712948, 8485),\n",
       " (20797, 8486),\n",
       " (20801, 8486),\n",
       " (20805, 8486),\n",
       " (20809, 8486),\n",
       " (20813, 8486),\n",
       " (20817, 8486),\n",
       " (20821, 8486),\n",
       " (20825, 8486),\n",
       " (107602, 8486),\n",
       " (107606, 8486),\n",
       " (107610, 8486),\n",
       " (107614, 8486),\n",
       " (107618, 8486),\n",
       " (107622, 8486),\n",
       " (219357, 8486),\n",
       " (219361, 8486),\n",
       " (219365, 8486),\n",
       " (219369, 8486),\n",
       " (219373, 8486),\n",
       " (219377, 8486),\n",
       " (219381, 8486),\n",
       " (219385, 8486),\n",
       " (219389, 8486),\n",
       " (227721, 8486),\n",
       " (227725, 8486),\n",
       " (227729, 8486),\n",
       " (305241, 8486),\n",
       " (305245, 8486),\n",
       " (305249, 8486),\n",
       " (305253, 8486),\n",
       " (312356, 8486),\n",
       " (312360, 8486),\n",
       " (312364, 8486),\n",
       " (312368, 8486),\n",
       " (312372, 8486),\n",
       " (312376, 8486),\n",
       " (312380, 8486),\n",
       " (312384, 8486),\n",
       " (694064, 8486),\n",
       " (694068, 8486),\n",
       " (694072, 8486),\n",
       " (694076, 8486),\n",
       " (694080, 8486),\n",
       " (694084, 8486),\n",
       " (694088, 8486),\n",
       " (712929, 8486),\n",
       " (712933, 8486),\n",
       " (712937, 8486),\n",
       " (712941, 8486),\n",
       " (712945, 8486),\n",
       " (712949, 8486),\n",
       " (20798, 8487),\n",
       " (20802, 8487),\n",
       " (20806, 8487),\n",
       " (20810, 8487),\n",
       " (20814, 8487),\n",
       " (20818, 8487),\n",
       " (20822, 8487),\n",
       " (20826, 8487),\n",
       " (107603, 8487),\n",
       " (107607, 8487),\n",
       " (107611, 8487),\n",
       " (107615, 8487),\n",
       " (107619, 8487),\n",
       " (107623, 8487),\n",
       " (219358, 8487),\n",
       " (219362, 8487),\n",
       " (219366, 8487),\n",
       " (219370, 8487),\n",
       " (219374, 8487),\n",
       " (219378, 8487),\n",
       " (219382, 8487),\n",
       " (219386, 8487),\n",
       " (219390, 8487),\n",
       " (227722, 8487),\n",
       " (227726, 8487),\n",
       " (227730, 8487),\n",
       " (305242, 8487),\n",
       " (305246, 8487),\n",
       " (305250, 8487),\n",
       " (312357, 8487),\n",
       " (312361, 8487),\n",
       " (312365, 8487),\n",
       " (312369, 8487),\n",
       " (312373, 8487),\n",
       " (312377, 8487),\n",
       " (312381, 8487),\n",
       " (312385, 8487),\n",
       " (694061, 8487),\n",
       " (694065, 8487),\n",
       " (694069, 8487),\n",
       " (694073, 8487),\n",
       " (694077, 8487),\n",
       " (694081, 8487),\n",
       " (694085, 8487),\n",
       " (694089, 8487),\n",
       " (712926, 8487),\n",
       " (712930, 8487),\n",
       " (712934, 8487),\n",
       " (712938, 8487),\n",
       " (712942, 8487),\n",
       " (712946, 8487),\n",
       " (20799, 8488),\n",
       " (20803, 8488),\n",
       " (20807, 8488),\n",
       " (20811, 8488),\n",
       " (20815, 8488),\n",
       " (20819, 8488),\n",
       " (20823, 8488),\n",
       " (20827, 8488),\n",
       " (107600, 8488),\n",
       " (107604, 8488),\n",
       " (107608, 8488),\n",
       " (107612, 8488),\n",
       " (107616, 8488),\n",
       " (107620, 8488),\n",
       " (219355, 8488),\n",
       " (219359, 8488),\n",
       " (219363, 8488),\n",
       " (219367, 8488),\n",
       " (219371, 8488),\n",
       " (219375, 8488),\n",
       " (219379, 8488),\n",
       " (219383, 8488),\n",
       " (219387, 8488),\n",
       " (219391, 8488),\n",
       " (227723, 8488),\n",
       " (227727, 8488),\n",
       " (227731, 8488),\n",
       " (305243, 8488),\n",
       " (305247, 8488),\n",
       " (305251, 8488),\n",
       " (312358, 8488),\n",
       " (312362, 8488),\n",
       " (312366, 8488),\n",
       " (312370, 8488),\n",
       " (312374, 8488),\n",
       " (312378, 8488),\n",
       " (312382, 8488),\n",
       " (312386, 8488),\n",
       " (694062, 8488),\n",
       " (694066, 8488),\n",
       " (694070, 8488),\n",
       " (694074, 8488),\n",
       " (694078, 8488),\n",
       " (694082, 8488),\n",
       " (694086, 8488),\n",
       " (712927, 8488),\n",
       " (712931, 8488),\n",
       " (712935, 8488),\n",
       " (712939, 8488),\n",
       " (712943, 8488),\n",
       " (712947, 8488),\n",
       " (20796, 8489),\n",
       " (20800, 8489),\n",
       " (20804, 8489),\n",
       " (20808, 8489),\n",
       " (20812, 8489),\n",
       " (20816, 8489),\n",
       " (20820, 8489),\n",
       " (20824, 8489),\n",
       " (107601, 8489),\n",
       " (107605, 8489),\n",
       " (107609, 8489),\n",
       " (107613, 8489),\n",
       " (107617, 8489),\n",
       " (107621, 8489),\n",
       " (219356, 8489),\n",
       " (219360, 8489),\n",
       " (219364, 8489),\n",
       " (219368, 8489),\n",
       " (219372, 8489),\n",
       " (219376, 8489),\n",
       " (219380, 8489),\n",
       " (219384, 8489),\n",
       " (219388, 8489),\n",
       " (219392, 8489),\n",
       " (227720, 8489),\n",
       " (227724, 8489),\n",
       " (227728, 8489),\n",
       " (227732, 8489),\n",
       " (305244, 8489),\n",
       " (305248, 8489),\n",
       " (305252, 8489),\n",
       " (312359, 8489),\n",
       " (312363, 8489),\n",
       " (312367, 8489),\n",
       " (312371, 8489),\n",
       " (312375, 8489),\n",
       " (312379, 8489),\n",
       " (312383, 8489),\n",
       " (312387, 8489),\n",
       " (694063, 8489),\n",
       " (694067, 8489),\n",
       " (694071, 8489),\n",
       " (694075, 8489),\n",
       " (694079, 8489),\n",
       " (694083, 8489),\n",
       " (694087, 8489),\n",
       " (712928, 8489),\n",
       " (712932, 8489),\n",
       " (712936, 8489),\n",
       " (712940, 8489),\n",
       " (712944, 8489),\n",
       " (712948, 8489),\n",
       " (20797, 8490),\n",
       " (20801, 8490),\n",
       " (20805, 8490),\n",
       " (20809, 8490),\n",
       " (20813, 8490),\n",
       " (20817, 8490),\n",
       " (20821, 8490),\n",
       " (20825, 8490),\n",
       " (107602, 8490),\n",
       " (107606, 8490),\n",
       " (107610, 8490),\n",
       " (107614, 8490),\n",
       " (107618, 8490),\n",
       " (107622, 8490),\n",
       " (219357, 8490),\n",
       " (219361, 8490),\n",
       " (219365, 8490),\n",
       " (219369, 8490),\n",
       " (219373, 8490),\n",
       " (219377, 8490),\n",
       " (219381, 8490),\n",
       " (219385, 8490),\n",
       " (219389, 8490),\n",
       " (227721, 8490),\n",
       " (227725, 8490),\n",
       " (227729, 8490),\n",
       " (305241, 8490),\n",
       " (305245, 8490),\n",
       " (305249, 8490),\n",
       " (305253, 8490),\n",
       " (312356, 8490),\n",
       " (312360, 8490),\n",
       " (312364, 8490),\n",
       " (312368, 8490),\n",
       " (312372, 8490),\n",
       " (312376, 8490),\n",
       " (312380, 8490),\n",
       " (312384, 8490),\n",
       " (694064, 8490),\n",
       " (694068, 8490),\n",
       " (694072, 8490),\n",
       " (694076, 8490),\n",
       " (694080, 8490),\n",
       " (694084, 8490),\n",
       " (694088, 8490),\n",
       " (712929, 8490),\n",
       " (712933, 8490),\n",
       " (712937, 8490),\n",
       " (712941, 8490),\n",
       " (712945, 8490),\n",
       " (712949, 8490),\n",
       " (20798, 8491),\n",
       " (20802, 8491),\n",
       " (20806, 8491),\n",
       " (20810, 8491),\n",
       " (20814, 8491),\n",
       " (20818, 8491),\n",
       " (20822, 8491),\n",
       " (20826, 8491),\n",
       " (107603, 8491),\n",
       " (107607, 8491),\n",
       " (107611, 8491),\n",
       " (107615, 8491),\n",
       " (107619, 8491),\n",
       " (107623, 8491),\n",
       " (219358, 8491),\n",
       " (219362, 8491),\n",
       " (219366, 8491),\n",
       " (219370, 8491),\n",
       " (219374, 8491),\n",
       " (219378, 8491),\n",
       " (219382, 8491),\n",
       " (219386, 8491),\n",
       " (219390, 8491),\n",
       " (227722, 8491),\n",
       " (227726, 8491),\n",
       " (227730, 8491),\n",
       " (305242, 8491),\n",
       " (305246, 8491),\n",
       " (305250, 8491),\n",
       " (312357, 8491),\n",
       " (312361, 8491),\n",
       " (312365, 8491),\n",
       " (312369, 8491),\n",
       " (312373, 8491),\n",
       " (312377, 8491),\n",
       " (312381, 8491),\n",
       " (312385, 8491),\n",
       " (694061, 8491),\n",
       " (694065, 8491),\n",
       " (694069, 8491),\n",
       " (694073, 8491),\n",
       " (694077, 8491),\n",
       " (694081, 8491),\n",
       " (694085, 8491),\n",
       " (694089, 8491),\n",
       " (712926, 8491),\n",
       " (712930, 8491),\n",
       " (712934, 8491),\n",
       " (712938, 8491),\n",
       " (712942, 8491),\n",
       " (712946, 8491),\n",
       " (20799, 8492),\n",
       " (20803, 8492),\n",
       " (20807, 8492),\n",
       " (20811, 8492),\n",
       " (20815, 8492),\n",
       " (20819, 8492),\n",
       " (20823, 8492),\n",
       " (20827, 8492),\n",
       " (107600, 8492),\n",
       " (107604, 8492),\n",
       " (107608, 8492),\n",
       " (107612, 8492),\n",
       " (107616, 8492),\n",
       " (107620, 8492),\n",
       " (219355, 8492),\n",
       " (219359, 8492),\n",
       " (219363, 8492),\n",
       " (219367, 8492),\n",
       " (219371, 8492),\n",
       " (219375, 8492),\n",
       " (219379, 8492),\n",
       " (219383, 8492),\n",
       " (219387, 8492),\n",
       " (219391, 8492),\n",
       " (227723, 8492),\n",
       " (227727, 8492),\n",
       " (227731, 8492),\n",
       " (305243, 8492),\n",
       " (305247, 8492),\n",
       " (305251, 8492),\n",
       " (312358, 8492),\n",
       " (312362, 8492),\n",
       " (312366, 8492),\n",
       " (312370, 8492),\n",
       " (312374, 8492),\n",
       " (312378, 8492),\n",
       " (312382, 8492),\n",
       " (312386, 8492),\n",
       " (694062, 8492),\n",
       " (694066, 8492),\n",
       " (694070, 8492),\n",
       " (694074, 8492),\n",
       " (694078, 8492),\n",
       " (694082, 8492),\n",
       " (694086, 8492),\n",
       " (712927, 8492),\n",
       " (712931, 8492),\n",
       " (712935, 8492),\n",
       " (712939, 8492),\n",
       " (712943, 8492),\n",
       " (712947, 8492),\n",
       " (20796, 8493),\n",
       " (20800, 8493),\n",
       " (20804, 8493),\n",
       " (20808, 8493),\n",
       " (20812, 8493),\n",
       " (20816, 8493),\n",
       " (20820, 8493),\n",
       " (20824, 8493),\n",
       " (107601, 8493),\n",
       " (107605, 8493),\n",
       " (107609, 8493),\n",
       " (107613, 8493),\n",
       " (107617, 8493),\n",
       " (107621, 8493),\n",
       " (219356, 8493),\n",
       " (219360, 8493),\n",
       " (219364, 8493),\n",
       " (219368, 8493),\n",
       " (219372, 8493),\n",
       " (219376, 8493),\n",
       " (219380, 8493),\n",
       " (219384, 8493),\n",
       " (219388, 8493),\n",
       " (219392, 8493),\n",
       " (227720, 8493),\n",
       " (227724, 8493),\n",
       " (227728, 8493),\n",
       " (227732, 8493),\n",
       " (305244, 8493),\n",
       " (305248, 8493),\n",
       " (305252, 8493),\n",
       " (312359, 8493),\n",
       " (312363, 8493),\n",
       " (312367, 8493),\n",
       " (312371, 8493),\n",
       " (312375, 8493),\n",
       " (312379, 8493),\n",
       " (312383, 8493),\n",
       " (312387, 8493),\n",
       " (694063, 8493),\n",
       " (694067, 8493),\n",
       " (694071, 8493),\n",
       " (694075, 8493),\n",
       " (694079, 8493),\n",
       " (694083, 8493),\n",
       " (694087, 8493),\n",
       " (712928, 8493),\n",
       " (712932, 8493),\n",
       " (712936, 8493),\n",
       " (712940, 8493),\n",
       " (712944, 8493),\n",
       " (712948, 8493),\n",
       " (20797, 8494),\n",
       " (20801, 8494),\n",
       " (20805, 8494),\n",
       " (20809, 8494),\n",
       " (20813, 8494),\n",
       " (20817, 8494),\n",
       " (20821, 8494),\n",
       " (20825, 8494),\n",
       " (107602, 8494),\n",
       " (107606, 8494),\n",
       " (107610, 8494),\n",
       " (107614, 8494),\n",
       " (107618, 8494),\n",
       " (107622, 8494),\n",
       " (219357, 8494),\n",
       " (219361, 8494),\n",
       " (219365, 8494),\n",
       " (219369, 8494),\n",
       " (219373, 8494),\n",
       " (219377, 8494),\n",
       " (219381, 8494),\n",
       " (219385, 8494),\n",
       " (219389, 8494),\n",
       " (227721, 8494),\n",
       " (227725, 8494),\n",
       " (227729, 8494),\n",
       " (305241, 8494),\n",
       " (305245, 8494),\n",
       " (305249, 8494),\n",
       " (305253, 8494),\n",
       " (312356, 8494),\n",
       " (312360, 8494),\n",
       " (312364, 8494),\n",
       " (312368, 8494),\n",
       " (312372, 8494),\n",
       " (312376, 8494),\n",
       " (312380, 8494),\n",
       " (312384, 8494),\n",
       " (694064, 8494),\n",
       " (694068, 8494),\n",
       " (694072, 8494),\n",
       " (694076, 8494),\n",
       " (694080, 8494),\n",
       " (694084, 8494),\n",
       " (694088, 8494),\n",
       " (712929, 8494),\n",
       " (712933, 8494),\n",
       " (712937, 8494),\n",
       " (712941, 8494),\n",
       " (712945, 8494),\n",
       " (712949, 8494),\n",
       " (20798, 8495),\n",
       " (20802, 8495),\n",
       " (20806, 8495),\n",
       " (20810, 8495),\n",
       " (20814, 8495),\n",
       " (20818, 8495),\n",
       " (20822, 8495),\n",
       " (20826, 8495),\n",
       " (107603, 8495),\n",
       " (107607, 8495),\n",
       " (107611, 8495),\n",
       " (107615, 8495),\n",
       " (107619, 8495),\n",
       " (107623, 8495),\n",
       " (219358, 8495),\n",
       " (219362, 8495),\n",
       " (219366, 8495),\n",
       " (219370, 8495),\n",
       " (219374, 8495),\n",
       " (219378, 8495),\n",
       " (219382, 8495),\n",
       " (219386, 8495),\n",
       " (219390, 8495),\n",
       " (227722, 8495),\n",
       " (227726, 8495),\n",
       " (227730, 8495),\n",
       " (305242, 8495),\n",
       " (305246, 8495),\n",
       " (305250, 8495),\n",
       " (312357, 8495),\n",
       " (312361, 8495),\n",
       " (312365, 8495),\n",
       " (312369, 8495),\n",
       " (312373, 8495),\n",
       " (312377, 8495),\n",
       " (312381, 8495),\n",
       " (312385, 8495),\n",
       " (694061, 8495),\n",
       " (694065, 8495),\n",
       " (694069, 8495),\n",
       " (694073, 8495),\n",
       " (694077, 8495),\n",
       " (694081, 8495),\n",
       " (694085, 8495),\n",
       " (694089, 8495),\n",
       " (712926, 8495),\n",
       " (712930, 8495),\n",
       " (712934, 8495),\n",
       " (712938, 8495),\n",
       " (712942, 8495),\n",
       " (712946, 8495),\n",
       " (20799, 8496),\n",
       " (20803, 8496),\n",
       " (20807, 8496),\n",
       " (20811, 8496),\n",
       " (20815, 8496),\n",
       " (20819, 8496),\n",
       " (20823, 8496),\n",
       " (20827, 8496),\n",
       " (107600, 8496),\n",
       " (107604, 8496),\n",
       " (107608, 8496),\n",
       " (107612, 8496),\n",
       " (107616, 8496),\n",
       " (107620, 8496),\n",
       " (219355, 8496),\n",
       " (219359, 8496),\n",
       " (219363, 8496),\n",
       " (219367, 8496),\n",
       " (219371, 8496),\n",
       " (219375, 8496),\n",
       " (219379, 8496),\n",
       " (219383, 8496),\n",
       " (219387, 8496),\n",
       " (219391, 8496),\n",
       " (227723, 8496),\n",
       " (227727, 8496),\n",
       " (227731, 8496),\n",
       " (305243, 8496),\n",
       " (305247, 8496),\n",
       " (305251, 8496),\n",
       " (312358, 8496),\n",
       " (312362, 8496),\n",
       " (312366, 8496),\n",
       " (312370, 8496),\n",
       " (312374, 8496),\n",
       " (312378, 8496),\n",
       " (312382, 8496),\n",
       " (312386, 8496),\n",
       " (694062, 8496),\n",
       " (694066, 8496),\n",
       " (694070, 8496),\n",
       " (694074, 8496),\n",
       " (694078, 8496),\n",
       " (694082, 8496),\n",
       " (694086, 8496),\n",
       " (712927, 8496),\n",
       " (712931, 8496),\n",
       " (712935, 8496),\n",
       " (712939, 8496),\n",
       " (712943, 8496),\n",
       " (712947, 8496),\n",
       " (20796, 8497),\n",
       " (20800, 8497),\n",
       " (20804, 8497),\n",
       " (20808, 8497),\n",
       " (20812, 8497),\n",
       " (20816, 8497),\n",
       " (20820, 8497),\n",
       " (20824, 8497),\n",
       " (107601, 8497),\n",
       " (107605, 8497),\n",
       " (107609, 8497),\n",
       " (107613, 8497),\n",
       " (107617, 8497),\n",
       " (107621, 8497),\n",
       " (219356, 8497),\n",
       " (219360, 8497),\n",
       " (219364, 8497),\n",
       " (219368, 8497),\n",
       " (219372, 8497),\n",
       " (219376, 8497),\n",
       " (219380, 8497),\n",
       " (219384, 8497),\n",
       " (219388, 8497),\n",
       " (219392, 8497),\n",
       " (227720, 8497),\n",
       " (227724, 8497),\n",
       " (227728, 8497),\n",
       " (227732, 8497),\n",
       " (305244, 8497),\n",
       " (305248, 8497),\n",
       " (305252, 8497),\n",
       " (312359, 8497),\n",
       " (312363, 8497),\n",
       " (312367, 8497),\n",
       " (312371, 8497),\n",
       " (312375, 8497),\n",
       " (312379, 8497),\n",
       " (312383, 8497),\n",
       " (312387, 8497),\n",
       " (694063, 8497),\n",
       " (694067, 8497),\n",
       " (694071, 8497),\n",
       " (694075, 8497),\n",
       " (694079, 8497),\n",
       " (694083, 8497),\n",
       " (694087, 8497),\n",
       " (712928, 8497),\n",
       " (712932, 8497),\n",
       " (712936, 8497),\n",
       " (712940, 8497),\n",
       " (712944, 8497),\n",
       " (712948, 8497),\n",
       " (20797, 8498),\n",
       " (20801, 8498),\n",
       " (20805, 8498),\n",
       " (20809, 8498),\n",
       " (20813, 8498),\n",
       " (20817, 8498),\n",
       " (20821, 8498),\n",
       " (20825, 8498),\n",
       " (107602, 8498),\n",
       " (107606, 8498),\n",
       " (107610, 8498),\n",
       " (107614, 8498),\n",
       " (107618, 8498),\n",
       " (107622, 8498),\n",
       " (219357, 8498),\n",
       " (219361, 8498),\n",
       " (219365, 8498),\n",
       " (219369, 8498),\n",
       " (219373, 8498),\n",
       " (219377, 8498),\n",
       " (219381, 8498),\n",
       " (219385, 8498),\n",
       " (219389, 8498),\n",
       " (227721, 8498),\n",
       " (227725, 8498),\n",
       " (227729, 8498),\n",
       " (305241, 8498),\n",
       " (305245, 8498),\n",
       " (305249, 8498),\n",
       " (305253, 8498),\n",
       " (312356, 8498),\n",
       " (312360, 8498),\n",
       " (312364, 8498),\n",
       " (312368, 8498),\n",
       " (312372, 8498),\n",
       " (312376, 8498),\n",
       " (312380, 8498),\n",
       " (312384, 8498),\n",
       " (694064, 8498),\n",
       " (694068, 8498),\n",
       " (694072, 8498),\n",
       " (694076, 8498),\n",
       " (694080, 8498),\n",
       " (694084, 8498),\n",
       " (694088, 8498),\n",
       " (712929, 8498),\n",
       " (712933, 8498),\n",
       " (712937, 8498),\n",
       " (712941, 8498),\n",
       " (712945, 8498),\n",
       " (712949, 8498),\n",
       " (20798, 8499),\n",
       " (20802, 8499),\n",
       " (20806, 8499),\n",
       " (20810, 8499),\n",
       " (20814, 8499),\n",
       " (20818, 8499),\n",
       " (20822, 8499),\n",
       " (20826, 8499),\n",
       " (107603, 8499),\n",
       " (107607, 8499),\n",
       " (107611, 8499),\n",
       " (107615, 8499),\n",
       " (107619, 8499),\n",
       " (107623, 8499),\n",
       " (219358, 8499),\n",
       " (219362, 8499),\n",
       " (219366, 8499),\n",
       " (219370, 8499),\n",
       " (219374, 8499),\n",
       " (219378, 8499),\n",
       " (219382, 8499),\n",
       " (219386, 8499),\n",
       " (219390, 8499),\n",
       " (227722, 8499),\n",
       " (227726, 8499),\n",
       " (227730, 8499),\n",
       " (305242, 8499),\n",
       " (305246, 8499),\n",
       " (305250, 8499),\n",
       " (312357, 8499),\n",
       " (312361, 8499),\n",
       " (312365, 8499),\n",
       " (312369, 8499),\n",
       " (312373, 8499),\n",
       " (312377, 8499),\n",
       " (312381, 8499),\n",
       " (312385, 8499),\n",
       " (694061, 8499),\n",
       " (694065, 8499),\n",
       " (694069, 8499),\n",
       " (694073, 8499),\n",
       " (694077, 8499),\n",
       " (694081, 8499),\n",
       " (694085, 8499),\n",
       " (694089, 8499),\n",
       " (712926, 8499),\n",
       " (712930, 8499),\n",
       " (712934, 8499),\n",
       " (712938, 8499),\n",
       " (712942, 8499),\n",
       " (712946, 8499),\n",
       " (20799, 8500),\n",
       " (20803, 8500),\n",
       " (20807, 8500),\n",
       " (20811, 8500),\n",
       " (20815, 8500),\n",
       " (20819, 8500),\n",
       " (20823, 8500),\n",
       " (20827, 8500),\n",
       " (107600, 8500),\n",
       " (107604, 8500),\n",
       " (107608, 8500),\n",
       " (107612, 8500),\n",
       " (107616, 8500),\n",
       " (107620, 8500),\n",
       " (219355, 8500),\n",
       " (219359, 8500),\n",
       " (219363, 8500),\n",
       " (219367, 8500),\n",
       " (219371, 8500),\n",
       " (219375, 8500),\n",
       " (219379, 8500),\n",
       " (219383, 8500),\n",
       " (219387, 8500),\n",
       " (219391, 8500),\n",
       " (227723, 8500),\n",
       " (227727, 8500),\n",
       " (227731, 8500),\n",
       " (305243, 8500),\n",
       " (305247, 8500),\n",
       " (305251, 8500),\n",
       " (312358, 8500),\n",
       " (312362, 8500),\n",
       " (312366, 8500),\n",
       " (312370, 8500),\n",
       " (312374, 8500),\n",
       " (312378, 8500),\n",
       " (312382, 8500),\n",
       " (312386, 8500),\n",
       " (694062, 8500),\n",
       " (694066, 8500),\n",
       " (694070, 8500),\n",
       " (694074, 8500),\n",
       " (694078, 8500),\n",
       " (694082, 8500),\n",
       " (694086, 8500),\n",
       " (712927, 8500),\n",
       " (712931, 8500),\n",
       " (712935, 8500),\n",
       " (712939, 8500),\n",
       " (712943, 8500),\n",
       " (712947, 8500),\n",
       " (20796, 8501),\n",
       " (20800, 8501),\n",
       " (20804, 8501),\n",
       " (20808, 8501),\n",
       " (20812, 8501),\n",
       " (20816, 8501),\n",
       " (20820, 8501),\n",
       " (20824, 8501),\n",
       " (107601, 8501),\n",
       " (107605, 8501),\n",
       " (107609, 8501),\n",
       " (107613, 8501),\n",
       " (107617, 8501),\n",
       " (107621, 8501),\n",
       " (219356, 8501),\n",
       " (219360, 8501),\n",
       " (219364, 8501),\n",
       " (219368, 8501),\n",
       " (219372, 8501),\n",
       " (219376, 8501),\n",
       " (219380, 8501),\n",
       " ...]"
      ]
     },
     "execution_count": 46,
     "metadata": {},
     "output_type": "execute_result"
    }
   ],
   "source": [
    "collect_hits(seq1, seq2)"
   ]
  },
  {
   "cell_type": "markdown",
   "metadata": {
    "id": "-yB-5Q-dp0g8"
   },
   "source": [
    "3. (3 points) Plot the hits you find using the provided `plot_hits()` function. Describe what you see. How many hits are there? What proportion of hits fall along the diagonal (within the two blue lines)? Why are matches that are close to the diagonal more likely than off-diagonal matches to represent “correct” alignments?\n"
   ]
  },
  {
   "cell_type": "code",
   "execution_count": 47,
   "metadata": {
    "id": "RfOQ225xMGAx"
   },
   "outputs": [
    {
     "name": "stdout",
     "output_type": "stream",
     "text": [
      "Hashing sequence 1...\n",
      "Hashing sequence 2...\n"
     ]
    },
    {
     "data": {
      "image/png": "[encoded data removed]",
      "text/plain": [
       "<Figure size 640x480 with 1 Axes>"
      ]
     },
     "metadata": {},
     "output_type": "display_data"
    }
   ],
   "source": [
    "hits = collect_hits(seq1, seq2)\n",
    "plot_hits(hits)"
   ]
  },
  {
   "cell_type": "markdown",
   "metadata": {
    "id": "VjRB6sS3qJnx"
   },
   "source": [
    "*Answer:* Therea are 62,829 hits, 24.7% of which fall within the diagnol. The matches close to the diagnol are more likely to represent \"correct\" alignments because this means that the matches are occuring around the same part of each sequence."
   ]
  },
  {
   "cell_type": "markdown",
   "metadata": {
    "id": "3sydkS5RqMiu"
   },
   "source": [
    "4. (2 points) Off diagonal matches: What causes such off-diagonal matches? Do you observe any structure in the off-diagonal hits? What types of genomic elements could cause such\n",
    "a pattern?"
   ]
  },
  {
   "cell_type": "markdown",
   "metadata": {
    "id": "zDt4g4rLqz6i"
   },
   "source": [
    "*Answer:* off-diagnol matches could be just due to coincidence, given that 30 nucleotides is not a particularly large amount relatively speaking. Some sequences might also be repeated many times throughout both sequences if they code for a particular cluster of amino acids, so they might have multiple hits with the other sequence for the same set of nucleotides. While there are spots that have relatively few off-diagnol hits, there doesn't seem to be a particular structure or correlation outside of the diagnol, there's a lot of them pretty much all around the graph. This again might just be because 30 nucleotides is relatively small given how large the sequences are. Genes may have repeating sequences to code for the same set of proteins. Transposable elements can also move around the genome, creating more repeats."
   ]
  },
  {
   "cell_type": "markdown",
   "metadata": {},
   "source": []
  },
  {
   "cell_type": "markdown",
   "metadata": {
    "id": "EPze2zyDq6kj"
   },
   "source": [
    "## Modifying match criteria.\n",
    "\n",
    "So far, we used an exact match with a k-mer length of 30 (30-mers). We can modify our algorithm to check for different types of match critera. In this problem, you will use tools you learned about strings to modify the match criteria."
   ]
  },
  {
   "cell_type": "markdown",
   "metadata": {
    "id": "28NmAL9VsRsV"
   },
   "source": [
    "2a. (1pt) Use the code you wrote above to find all exact matching 100-mers. After you run the code to generate the new hits with this match criteria, describe in words how you implemented this change. How does the plot changes qualitatively and quantatively (how many hits, what percentage are near the diagonal)?"
   ]
  },
  {
   "cell_type": "code",
   "execution_count": 49,
   "metadata": {
    "id": "abt6hSYyJbQa"
   },
   "outputs": [
    {
     "name": "stdout",
     "output_type": "stream",
     "text": [
      "Hashing sequence 1...\n",
      "Hashing sequence 2...\n"
     ]
    },
    {
     "data": {
      "image/png": "[encoded data removed]",
      "text/plain": [
       "<Figure size 640x480 with 1 Axes>"
      ]
     },
     "metadata": {},
     "output_type": "display_data"
    }
   ],
   "source": [
    "hits2 = collect_hits(seq1, seq2, kmerlen=100)\n",
    "plot_hits(hits2)"
   ]
  },
  {
   "cell_type": "markdown",
   "metadata": {
    "id": "wTCcLKIVs4tc"
   },
   "source": [
    "*Answer:* To findmatching 100-mers, I just had to change the kmerlen parameter to 100 (the default is 30). The hits reduce to only 1198, 100% of which fall within the diagnol."
   ]
  },
  {
   "cell_type": "markdown",
   "metadata": {
    "id": "VPJBj0AntqNZ"
   },
   "source": [
    "2b. (2pts) Write a function below that allows us to find all kmers of a given length, which match every `match_interval` bases. We will use to to compare hits for:\n",
    "* 60-mers that match every *other* base `(match_interval=2)`\n",
    "* 90-mers that match every *third* base `(match_interval=3)`\n",
    "* 120-mers that match every *fourth* base `(match_interval=4)`\n",
    "\n",
    "As a quick example:\n",
    "\n",
    "**A**T**A**G**G** and **A**T**G**C**G** doesn't match at interval 2\n",
    "\n",
    "**A**TA**G**G and **A**TG**C**G doesn't match at interval 3\n",
    "\n",
    "**A**TAG**G** and **A**TGC**G** does match at interval 4\n",
    "\n",
    "You should be able to use a lot of the code you wrote in `collect_hits()` in the previous question!"
   ]
  },
  {
   "cell_type": "code",
   "execution_count": 54,
   "metadata": {
    "id": "GFScfPqSs1k3"
   },
   "outputs": [],
   "source": [
    "def collect_alternating_hits(seq1, seq2, kmerlen=30, match_interval=1):\n",
    "    \n",
    "    \"\"\"\n",
    "  Find all positions on (seq1, seq2) where there is a matching k-mer.\n",
    "\n",
    "  For example, if we consider an exact match rule with a k- mer length f 4:\n",
    "   seq1[10] = 'AATC' and seq2[50] = 'AATC'\n",
    "  would register a hit at position (10,50).\n",
    "\n",
    "  @param: (str) seq1 representing sequence 1 to be aligned\n",
    "  @param: (str) seq2 representing sequence 2 to be aligned\n",
    "  @param: (int) kmerlen representing the length of k-mers to be hashed (default 30)\n",
    "  @param: (int) n representing the number how frequently to subselect bases from\n",
    "\n",
    "  @ return: (list of tuples) where each entry on the list is a tuple of integers\n",
    "            ([p1, p2]), at 'matching' where positions p1 represents the position\n",
    "            on seq1 and p2 represents the position on seq2\n",
    "  \"\"\"\n",
    "\n",
    "  # List of hit positions\n",
    "    hits = []\n",
    "\n",
    "  # Dictionary to store hashes of positions where k-mers are located\n",
    "    lookup = {}\n",
    "\n",
    "  # Find the correct kmer in seq1 to hash\n",
    "    print('Hashing sequence 1...')\n",
    "    for pos1 in range(len(seq1) - (kmerlen - 1) * match_interval):\n",
    "        kmer = ''.join([seq1[pos1 + i * match_interval] for i in range(kmerlen)])\n",
    "        lookup.setdefault(kmer, []).append(pos1)\n",
    "    \n",
    "    # Find the correct k-mer in sequence 2\n",
    "    # YOUR CODE HERE\n",
    "    print('Hashing sequence 2...')\n",
    "    \n",
    "    for pos2 in range(len(seq2) - (kmerlen - 1) * match_interval):\n",
    "        kmer = ''.join([seq2[pos2 + i * match_interval] for i in range(kmerlen)])\n",
    "        \n",
    "    # Lookup kmer locations in the lookup table\n",
    "    # Store the positions of hits (where both seq1 and seq2 contain the same k-mer)\n",
    "    # YOUR CODE HERE\n",
    "        if kmer in lookup:\n",
    "            for pos1 in lookup[kmer]:\n",
    "                hits.append((pos1, pos2))\n",
    "   \n",
    "\n",
    "    return hits"
   ]
  },
  {
   "cell_type": "code",
   "execution_count": 56,
   "metadata": {
    "id": "hI1u8Sc7s1ne"
   },
   "outputs": [
    {
     "name": "stdout",
     "output_type": "stream",
     "text": [
      "Hashing sequence 1...\n",
      "Hashing sequence 2...\n",
      "Hashing sequence 1...\n",
      "Hashing sequence 2...\n",
      "Hashing sequence 1...\n",
      "Hashing sequence 2...\n"
     ]
    }
   ],
   "source": [
    "# Use your function to compare and plot hits for each of the given scenarios:\n",
    "# kmerlen = 60, match_interval=2\n",
    "# kmerlen = 90, match_interval=3\n",
    "# kmerlen = 120, match_interval=4\n",
    "\n",
    "hits3 = collect_alternating_hits(seq1, seq2, kmerlen=60, match_interval=2)\n",
    "hits4 = collect_alternating_hits(seq1, seq2, kmerlen=90, match_interval=3)\n",
    "hits5 =collect_alternating_hits(seq1, seq2, kmerlen=120, match_interval=4)"
   ]
  },
  {
   "cell_type": "code",
   "execution_count": 57,
   "metadata": {},
   "outputs": [
    {
     "data": {
      "image/png": "[encoded data removed]",
      "text/plain": [
       "<Figure size 640x480 with 1 Axes>"
      ]
     },
     "metadata": {},
     "output_type": "display_data"
    },
    {
     "data": {
      "image/png": "[encoded data removed]",
      "text/plain": [
       "<Figure size 640x480 with 1 Axes>"
      ]
     },
     "metadata": {},
     "output_type": "display_data"
    },
    {
     "data": {
      "image/png": "[encoded data removed]",
      "text/plain": [
       "<Figure size 640x480 with 1 Axes>"
      ]
     },
     "metadata": {},
     "output_type": "display_data"
    }
   ],
   "source": [
    "plot_hits(hits3)\n",
    "plot_hits(hits4)\n",
    "plot_hits(hits5)"
   ]
  },
  {
   "cell_type": "markdown",
   "metadata": {
    "id": "pE_t_knnvIB0"
   },
   "source": [
    "2c. (2pts) Although all the plots above require the same number of matches (`30=60/2=90/3=120/4`), they each have different specificity to the diagonal. What factors do you think affect this specificity? Which is the highest, and why do you think this might be the case?"
   ]
  },
  {
   "cell_type": "markdown",
   "metadata": {
    "id": "fBO2k5vpvjTD"
   },
   "source": [
    "*Answer: * Despite having the same number of overall nucleotides, the longer kmers are going to have less hits. This is likely due to the fact that sequences often repeat themselves to code for the same amino acids, so when we begin skipping over nucleotides, we're looking at places where the sequences are more likely to be coding for entirely different amino acids."
   ]
  },
  {
   "cell_type": "markdown",
   "metadata": {
    "id": "yD5J7UU4vq2I"
   },
   "source": [
    "## Detecting Inversions.\n",
    "\n",
    "Chrosomal rearrangements occur when pieces of a chromosome might be missing, duplicated or moved around. In this question, we will be looking at **inversions**. Inversions occur when a stretch of DNA is spliced out from the complementary strand and inserted in reverse orientation. For example `CGT[GATT]AGA` becomes `CGT[AATC]AGA`. Pay attention to the fact that the **complementary** sequence is inserted."
   ]
  },
  {
   "cell_type": "markdown",
   "metadata": {
    "id": "MFgyHvejwZGU"
   },
   "source": [
    "3a. (4pts) We will build up to writing a function to compute the inversion of a sequence.\n",
    "\n",
    "(i) (2pts) First, write a function that finds the complement of a sequence of DNA. In the complementary sequence, Adenine (A) is always paired with Thymine (T), and Cytosine (C) is always paired with Guanine (G)."
   ]
  },
  {
   "cell_type": "code",
   "execution_count": 87,
   "metadata": {
    "id": "91J27RF-s1s8"
   },
   "outputs": [],
   "source": [
    "def complement(sequence):\n",
    "    \"\"\"\n",
    "  Return the reverse complement of the input sequence, according to\n",
    "  the following map:\n",
    "  {'A':'T','T':'A','C':'G','G':'C'}\n",
    "  If any other input nucleotide chatacters are input, return 'N' in the string.\n",
    "\n",
    "  @param: (str) sequence - input sequence consisting of 'ATCG'\n",
    "  @return: (str) complementary sequence\n",
    "  \"\"\"\n",
    "\n",
    "  # YOUR CODE HERE.\n",
    "    \n",
    "    base = {\"A\": \"T\", \"T\": \"A\", \"G\": \"C\", \"C\": \"G\"}\n",
    "    complement = \"\"\n",
    "    \n",
    "    for nucleotide in sequence:\n",
    "        complement += base.get(nucleotide, 'N')\n",
    "\n",
    "\n",
    "    return complement"
   ]
  },
  {
   "cell_type": "code",
   "execution_count": 88,
   "metadata": {
    "id": "qaMIC9Tzw3pQ"
   },
   "outputs": [
    {
     "data": {
      "text/plain": [
       "'TAGCTAGCN'"
      ]
     },
     "execution_count": 88,
     "metadata": {},
     "output_type": "execute_result"
    }
   ],
   "source": [
    "complement('ATCGATCGQ')"
   ]
  },
  {
   "cell_type": "markdown",
   "metadata": {
    "id": "G8Zu_d1Pw6vr"
   },
   "source": [
    "(ii) (1pt) Now, write a function that computes the reverse of a string. For example `cabbage` becomes `egabbac`. Hint! You can do this in one line (without any loops)."
   ]
  },
  {
   "cell_type": "code",
   "execution_count": 78,
   "metadata": {
    "id": "RAtJZ6yIs1vS"
   },
   "outputs": [],
   "source": [
    "def reverse(sequence):\n",
    "    \n",
    "    return ''.join(reversed(sequence))"
   ]
  },
  {
   "cell_type": "code",
   "execution_count": 79,
   "metadata": {
    "id": "ZL9Nbpn8xd1P"
   },
   "outputs": [
    {
     "data": {
      "text/plain": [
       "'egabbac'"
      ]
     },
     "execution_count": 79,
     "metadata": {},
     "output_type": "execute_result"
    }
   ],
   "source": [
    "reverse('cabbage')"
   ]
  },
  {
   "cell_type": "markdown",
   "metadata": {
    "id": "3hT8UudLxSRH"
   },
   "source": [
    "(iii) (1pt) Put these together to compute the reverse complement in the function below."
   ]
  },
  {
   "cell_type": "code",
   "execution_count": 89,
   "metadata": {
    "id": "earfCda9JbtB"
   },
   "outputs": [],
   "source": [
    "def reverse_complement(sequence):\n",
    "    \"\"\"\n",
    "  Return the reverse complement of the input sequence, according to\n",
    "  the following map:\n",
    "  {'A':'T','T':'A','C':'G','G':'C'}\n",
    "  If any other input nucleotide chatacters are input, return 'N' in the string.\n",
    "\n",
    "  @param - str(sequence). Input sequence consisting of 'ATCG'\n",
    "  @return - str reverse_complement sequence\n",
    "  \"\"\"\n",
    "\n",
    "  # YOUR CODE HERE\n",
    "    base = {\"A\": \"T\", \"T\": \"A\", \"G\": \"C\", \"C\": \"G\"}\n",
    "    complement = \"\"\n",
    "    \n",
    "    for nucleotide in sequence:\n",
    "        complement += base.get(nucleotide, 'N')\n",
    "\n",
    "\n",
    "    return ''.join(reversed(complement))\n"
   ]
  },
  {
   "cell_type": "code",
   "execution_count": 90,
   "metadata": {
    "id": "WfiM-Qv4JonB"
   },
   "outputs": [
    {
     "data": {
      "text/plain": [
       "'NCGATCGAT'"
      ]
     },
     "execution_count": 90,
     "metadata": {},
     "output_type": "execute_result"
    }
   ],
   "source": [
    "reverse_complement('ATCGATCGQ')"
   ]
  },
  {
   "cell_type": "markdown",
   "metadata": {
    "id": "fIrV2iuqxllY"
   },
   "source": [
    "3b. (2pts) We will use this function to help us detect inversions in our data.\n",
    "\n",
    "(i) (1pt) First, read the `human-hoxa-region-modified.fa` fasta file as a string, and save it as the variable `seq1_inversion`."
   ]
  },
  {
   "cell_type": "code",
   "execution_count": 91,
   "metadata": {
    "id": "SqRDCCyqx2of"
   },
   "outputs": [],
   "source": [
    "seq1_inversion = str(seq2)"
   ]
  },
  {
   "cell_type": "markdown",
   "metadata": {
    "id": "fvO5J1e3yM48"
   },
   "source": [
    "(ii) (1pt) Write a function below which allows you to detect inversions. This will be similar to your previous function `collect_hits()`, but you must now compare kmers from sequence 1 to their reverse complement in sequence 2."
   ]
  },
  {
   "cell_type": "code",
   "execution_count": 93,
   "metadata": {
    "id": "hIBaajNvx2vw"
   },
   "outputs": [],
   "source": [
    "def collect_inversion_hits(seq1, seq2, kmerlen=30):\n",
    "    \"\"\"\n",
    "  Find all positions on (seq1, seq2) where there is a matching k-mer.\n",
    "\n",
    "  For example, if we consider an exact match rule with a k- mer length f 4:\n",
    "   seq1[10] = 'AATC' and seq2[50] = 'AATC'\n",
    "  would register a hit at position (10,50).\n",
    "\n",
    "  @param: (str) seq1 representing sequence 1 to be aligned\n",
    "  @param: (str) seq2 representing sequence 2 to be aligned\n",
    "  @param: (int) kmerlen representing the length of k-mers to be hashed (default 30)\n",
    "  @param: (int) n representing the number how frequently to subselect bases from\n",
    "\n",
    "  @ return: (list of tuples) where each entry on the list is a tuple of integers\n",
    "            ([p1, p2]), at 'matching' where positions p1 represents the position\n",
    "            on seq1 and p2 represents the position on seq2\n",
    "  \"\"\"\n",
    "\n",
    "  # List of hit positions\n",
    "    hits = []\n",
    "\n",
    "  # Dictionary to store hashes of positions where k-mers are located\n",
    "    lookup = {}\n",
    "\n",
    "    def reverse_complement(sequence):\n",
    "\n",
    "        base = {\"A\": \"T\", \"T\": \"A\", \"G\": \"C\", \"C\": \"G\"}\n",
    "        complement = \"\"\n",
    "    \n",
    "        for nucleotide in sequence:\n",
    "            complement += base.get(nucleotide, 'N')\n",
    "\n",
    "\n",
    "        return ''.join(reversed(complement))\n",
    "    \n",
    "    print('Hashing sequence 1...')\n",
    "    for pos1 in range(len(seq1) - kmerlen + 1):\n",
    "        kmer = seq1[pos1:pos1 + kmerlen]\n",
    "        lookup.setdefault(kmer, []).append(pos1)\n",
    "\n",
    "\n",
    "    print('Hashing sequence 2...')\n",
    "    for pos2 in range(len(seq2) - kmerlen + 1):\n",
    "        kmer = seq2[pos2:pos2 + kmerlen]\n",
    "        reverse_kmer = reverse_complement(kmer)\n",
    "\n",
    "    # Lookup the reverse complement of the kmer locations in the lookup table\n",
    "    \n",
    "        if reverse_kmer in lookup:\n",
    "            for pos1 in lookup[reverse_kmer]:\n",
    "                hits.append((pos1, pos2))\n",
    "                \n",
    "    return hits"
   ]
  },
  {
   "cell_type": "markdown",
   "metadata": {
    "id": "3Sz5AKu70k2t"
   },
   "source": [
    "3c. (i) Use the function you wrote in part (b) and the dotplot to find the position of the inversion in the modified HoxA region. You can experiment with different values of kmer length to get the clearest results"
   ]
  },
  {
   "cell_type": "code",
   "execution_count": 94,
   "metadata": {
    "id": "Yxdo--WOx2yl"
   },
   "outputs": [
    {
     "name": "stdout",
     "output_type": "stream",
     "text": [
      "Hashing sequence 1...\n",
      "Hashing sequence 2...\n"
     ]
    },
    {
     "data": {
      "image/png": "[encoded data removed]",
      "text/plain": [
       "<Figure size 640x480 with 1 Axes>"
      ]
     },
     "metadata": {},
     "output_type": "display_data"
    }
   ],
   "source": [
    "hits = collect_inversion_hits(seq1, seq1_inversion, kmerlen=30)\n",
    "plot_hits(hits)"
   ]
  },
  {
   "cell_type": "code",
   "execution_count": 98,
   "metadata": {},
   "outputs": [
    {
     "name": "stdout",
     "output_type": "stream",
     "text": [
      "Hashing sequence 1...\n",
      "Hashing sequence 2...\n"
     ]
    },
    {
     "data": {
      "image/png": "[encoded data removed]",
      "text/plain": [
       "<Figure size 640x480 with 1 Axes>"
      ]
     },
     "metadata": {},
     "output_type": "display_data"
    }
   ],
   "source": [
    "Hits = collect_inversion_hits(seq1, seq1_inversion, kmerlen=40)\n",
    "plot_hits(Hits)"
   ]
  },
  {
   "cell_type": "markdown",
   "metadata": {
    "id": "ntFn29lT1Njq"
   },
   "source": [
    "(ii)  (2pts) Can you detect the inversion? Why does this plot reveal the location of inversions?"
   ]
  },
  {
   "cell_type": "markdown",
   "metadata": {
    "id": "lEsMGGIO1WoE"
   },
   "source": [
    "*Answer:* Inversions are detected throughout the sequence. The graph shows that 10.46% of the inversions are within the diagnol (when using kmerlen=30), meaning they line up around the same area of the original sequence and the inversion. Increasing the kmerlen by just 10 causes a significant reductioin in hits, and most of them line up around the middle, but still not in the diagnol. It is difficult to discern a clear pattern from these graphs however."
   ]
  },
  {
   "cell_type": "markdown",
   "metadata": {
    "id": "8Hwgcvny1aVV"
   },
   "source": [
    "3d. (2pts) Other potential chromosomal rearrangements include deletions and duplications. Explain how you would use this framework to detect such events. What would they look like on the dotplot?"
   ]
  },
  {
   "cell_type": "markdown",
   "metadata": {
    "id": "yKBZbNFO13yP"
   },
   "source": [
    "*Answer:* For duplications, you would look for k-mers that occur more frequently than expected within a given stretch of sequence. Multiple hits in different regions or extra hits alongside the main diagonal would be indicative of duplicated sequences.\n",
    "For deletions, the approach would be to identify regions where expected k-mers are missing. If a sequence is expected to have a k-mer based on its presence in a reference or a comparative sequence but does not, this could indicate a possible deletion."
   ]
  }
 ],
 "metadata": {
  "colab": {
   "provenance": []
  },
  "kernelspec": {
   "display_name": "Python 3 (ipykernel)",
   "language": "python",
   "name": "python3"
  },
  "language_info": {
   "codemirror_mode": {
    "name": "ipython",
    "version": 3
   },
   "file_extension": ".py",
   "mimetype": "text/x-python",
   "name": "python",
   "nbconvert_exporter": "python",
   "pygments_lexer": "ipython3",
   "version": "3.11.4"
  }
 },
 "nbformat": 4,
 "nbformat_minor": 1
}
